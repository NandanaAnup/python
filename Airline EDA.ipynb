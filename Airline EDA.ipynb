{
 "cells": [
  {
   "cell_type": "code",
   "execution_count": null,
   "id": "dc935323",
   "metadata": {},
   "outputs": [],
   "source": []
  },
  {
   "cell_type": "code",
   "execution_count": 1,
   "id": "efdbd20f",
   "metadata": {},
   "outputs": [],
   "source": [
    "# Import the Libraries \n",
    "import numpy as np\n",
    "import pandas as pd\n",
    "import matplotlib.pyplot as plt\n",
    "import seaborn as sns"
   ]
  },
  {
   "cell_type": "code",
   "execution_count": 2,
   "id": "27b3a18c",
   "metadata": {},
   "outputs": [],
   "source": [
    "# Load the Dataset\n",
    "data = pd.read_csv(\"Airline Dataset Updated.csv\")"
   ]
  },
  {
   "cell_type": "code",
   "execution_count": 3,
   "id": "22ace98a",
   "metadata": {},
   "outputs": [
    {
     "data": {
      "text/html": [
       "<div>\n",
       "<style scoped>\n",
       "    .dataframe tbody tr th:only-of-type {\n",
       "        vertical-align: middle;\n",
       "    }\n",
       "\n",
       "    .dataframe tbody tr th {\n",
       "        vertical-align: top;\n",
       "    }\n",
       "\n",
       "    .dataframe thead th {\n",
       "        text-align: right;\n",
       "    }\n",
       "</style>\n",
       "<table border=\"1\" class=\"dataframe\">\n",
       "  <thead>\n",
       "    <tr style=\"text-align: right;\">\n",
       "      <th></th>\n",
       "      <th>Passenger ID</th>\n",
       "      <th>First Name</th>\n",
       "      <th>Last Name</th>\n",
       "      <th>Gender</th>\n",
       "      <th>Age</th>\n",
       "      <th>Nationality</th>\n",
       "      <th>Airport Name</th>\n",
       "      <th>Airport Country Code</th>\n",
       "      <th>Country Name</th>\n",
       "      <th>Airport Continent</th>\n",
       "      <th>Continents</th>\n",
       "      <th>Departure Date</th>\n",
       "      <th>Arrival Airport</th>\n",
       "      <th>Pilot Name</th>\n",
       "      <th>Flight Status</th>\n",
       "    </tr>\n",
       "  </thead>\n",
       "  <tbody>\n",
       "    <tr>\n",
       "      <th>0</th>\n",
       "      <td>ABVWIg</td>\n",
       "      <td>Edithe</td>\n",
       "      <td>Leggis</td>\n",
       "      <td>Female</td>\n",
       "      <td>62</td>\n",
       "      <td>Japan</td>\n",
       "      <td>Coldfoot Airport</td>\n",
       "      <td>US</td>\n",
       "      <td>United States</td>\n",
       "      <td>NAM</td>\n",
       "      <td>North America</td>\n",
       "      <td>6/28/2022</td>\n",
       "      <td>CXF</td>\n",
       "      <td>Edithe Leggis</td>\n",
       "      <td>On Time</td>\n",
       "    </tr>\n",
       "    <tr>\n",
       "      <th>1</th>\n",
       "      <td>jkXXAX</td>\n",
       "      <td>Elwood</td>\n",
       "      <td>Catt</td>\n",
       "      <td>Male</td>\n",
       "      <td>62</td>\n",
       "      <td>Nicaragua</td>\n",
       "      <td>Kugluktuk Airport</td>\n",
       "      <td>CA</td>\n",
       "      <td>Canada</td>\n",
       "      <td>NAM</td>\n",
       "      <td>North America</td>\n",
       "      <td>12/26/2022</td>\n",
       "      <td>YCO</td>\n",
       "      <td>Elwood Catt</td>\n",
       "      <td>On Time</td>\n",
       "    </tr>\n",
       "    <tr>\n",
       "      <th>2</th>\n",
       "      <td>CdUz2g</td>\n",
       "      <td>Darby</td>\n",
       "      <td>Felgate</td>\n",
       "      <td>Male</td>\n",
       "      <td>67</td>\n",
       "      <td>Russia</td>\n",
       "      <td>Grenoble-Isère Airport</td>\n",
       "      <td>FR</td>\n",
       "      <td>France</td>\n",
       "      <td>EU</td>\n",
       "      <td>Europe</td>\n",
       "      <td>1/18/2022</td>\n",
       "      <td>GNB</td>\n",
       "      <td>Darby Felgate</td>\n",
       "      <td>On Time</td>\n",
       "    </tr>\n",
       "    <tr>\n",
       "      <th>3</th>\n",
       "      <td>BRS38V</td>\n",
       "      <td>Dominica</td>\n",
       "      <td>Pyle</td>\n",
       "      <td>Female</td>\n",
       "      <td>71</td>\n",
       "      <td>China</td>\n",
       "      <td>Ottawa / Gatineau Airport</td>\n",
       "      <td>CA</td>\n",
       "      <td>Canada</td>\n",
       "      <td>NAM</td>\n",
       "      <td>North America</td>\n",
       "      <td>9/16/2022</td>\n",
       "      <td>YND</td>\n",
       "      <td>Dominica Pyle</td>\n",
       "      <td>Delayed</td>\n",
       "    </tr>\n",
       "    <tr>\n",
       "      <th>4</th>\n",
       "      <td>9kvTLo</td>\n",
       "      <td>Bay</td>\n",
       "      <td>Pencost</td>\n",
       "      <td>Male</td>\n",
       "      <td>21</td>\n",
       "      <td>China</td>\n",
       "      <td>Gillespie Field</td>\n",
       "      <td>US</td>\n",
       "      <td>United States</td>\n",
       "      <td>NAM</td>\n",
       "      <td>North America</td>\n",
       "      <td>2/25/2022</td>\n",
       "      <td>SEE</td>\n",
       "      <td>Bay Pencost</td>\n",
       "      <td>On Time</td>\n",
       "    </tr>\n",
       "  </tbody>\n",
       "</table>\n",
       "</div>"
      ],
      "text/plain": [
       "  Passenger ID First Name Last Name  Gender  Age Nationality  \\\n",
       "0       ABVWIg     Edithe    Leggis  Female   62       Japan   \n",
       "1       jkXXAX     Elwood      Catt    Male   62   Nicaragua   \n",
       "2       CdUz2g      Darby   Felgate    Male   67      Russia   \n",
       "3       BRS38V   Dominica      Pyle  Female   71       China   \n",
       "4       9kvTLo        Bay   Pencost    Male   21       China   \n",
       "\n",
       "                Airport Name Airport Country Code   Country Name  \\\n",
       "0           Coldfoot Airport                   US  United States   \n",
       "1          Kugluktuk Airport                   CA         Canada   \n",
       "2     Grenoble-Isère Airport                   FR         France   \n",
       "3  Ottawa / Gatineau Airport                   CA         Canada   \n",
       "4            Gillespie Field                   US  United States   \n",
       "\n",
       "  Airport Continent     Continents Departure Date Arrival Airport  \\\n",
       "0               NAM  North America      6/28/2022             CXF   \n",
       "1               NAM  North America     12/26/2022             YCO   \n",
       "2                EU         Europe      1/18/2022             GNB   \n",
       "3               NAM  North America      9/16/2022             YND   \n",
       "4               NAM  North America      2/25/2022             SEE   \n",
       "\n",
       "      Pilot Name Flight Status  \n",
       "0  Edithe Leggis       On Time  \n",
       "1    Elwood Catt       On Time  \n",
       "2  Darby Felgate       On Time  \n",
       "3  Dominica Pyle       Delayed  \n",
       "4    Bay Pencost       On Time  "
      ]
     },
     "execution_count": 3,
     "metadata": {},
     "output_type": "execute_result"
    }
   ],
   "source": [
    "#Preview the first 5 rows of dataset\n",
    "data.head()"
   ]
  },
  {
   "cell_type": "markdown",
   "id": "547b43f5",
   "metadata": {},
   "source": [
    "You can see that there are categorical data,geographical data and numerical data.\n",
    "Next, we will use the data.shape and data.info() to get more information."
   ]
  },
  {
   "cell_type": "code",
   "execution_count": 4,
   "id": "1bc0ff3d",
   "metadata": {},
   "outputs": [
    {
     "data": {
      "text/plain": [
       "(98619, 15)"
      ]
     },
     "execution_count": 4,
     "metadata": {},
     "output_type": "execute_result"
    }
   ],
   "source": [
    "# Shape of the dataset\n",
    "data.shape"
   ]
  },
  {
   "cell_type": "code",
   "execution_count": 5,
   "id": "0741dba4",
   "metadata": {},
   "outputs": [
    {
     "name": "stdout",
     "output_type": "stream",
     "text": [
      "<class 'pandas.core.frame.DataFrame'>\n",
      "RangeIndex: 98619 entries, 0 to 98618\n",
      "Data columns (total 15 columns):\n",
      " #   Column                Non-Null Count  Dtype \n",
      "---  ------                --------------  ----- \n",
      " 0   Passenger ID          98619 non-null  object\n",
      " 1   First Name            98619 non-null  object\n",
      " 2   Last Name             98619 non-null  object\n",
      " 3   Gender                98619 non-null  object\n",
      " 4   Age                   98619 non-null  int64 \n",
      " 5   Nationality           98619 non-null  object\n",
      " 6   Airport Name          98619 non-null  object\n",
      " 7   Airport Country Code  98619 non-null  object\n",
      " 8   Country Name          98619 non-null  object\n",
      " 9   Airport Continent     98619 non-null  object\n",
      " 10  Continents            98619 non-null  object\n",
      " 11  Departure Date        98619 non-null  object\n",
      " 12  Arrival Airport       98619 non-null  object\n",
      " 13  Pilot Name            98619 non-null  object\n",
      " 14  Flight Status         98619 non-null  object\n",
      "dtypes: int64(1), object(14)\n",
      "memory usage: 11.3+ MB\n"
     ]
    }
   ],
   "source": [
    "# Summerized information of the dataset\n",
    "data.info()"
   ]
  },
  {
   "cell_type": "markdown",
   "id": "1a2a377b",
   "metadata": {},
   "source": [
    "There are 98619 rows and 15 columns in the dataset.\n",
    "We require to change the dtype of Departure Date from object to date.\n"
   ]
  },
  {
   "cell_type": "code",
   "execution_count": 6,
   "id": "3197fe00",
   "metadata": {},
   "outputs": [
    {
     "data": {
      "text/plain": [
       "Passenger ID            0\n",
       "First Name              0\n",
       "Last Name               0\n",
       "Gender                  0\n",
       "Age                     0\n",
       "Nationality             0\n",
       "Airport Name            0\n",
       "Airport Country Code    0\n",
       "Country Name            0\n",
       "Airport Continent       0\n",
       "Continents              0\n",
       "Departure Date          0\n",
       "Arrival Airport         0\n",
       "Pilot Name              0\n",
       "Flight Status           0\n",
       "dtype: int64"
      ]
     },
     "execution_count": 6,
     "metadata": {},
     "output_type": "execute_result"
    }
   ],
   "source": [
    "#Handling Missing Values\n",
    "#Next we will find out whether there is Null values.\n",
    "data.isnull().sum()"
   ]
  },
  {
   "cell_type": "markdown",
   "id": "fe670b08",
   "metadata": {},
   "source": [
    "The result set shows that there are no null values"
   ]
  },
  {
   "cell_type": "code",
   "execution_count": 7,
   "id": "377c3553",
   "metadata": {},
   "outputs": [
    {
     "data": {
      "text/plain": [
       "0"
      ]
     },
     "execution_count": 7,
     "metadata": {},
     "output_type": "execute_result"
    }
   ],
   "source": [
    "# Find the number of duplicate data\n",
    "data.duplicated().sum()"
   ]
  },
  {
   "cell_type": "markdown",
   "id": "d4ca8be6",
   "metadata": {},
   "source": [
    "There are no duplicates in the dataset"
   ]
  },
  {
   "cell_type": "code",
   "execution_count": 8,
   "id": "fd4a05d9",
   "metadata": {},
   "outputs": [
    {
     "name": "stdout",
     "output_type": "stream",
     "text": [
      "Passenger ID                    object\n",
      "First Name                      object\n",
      "Last Name                       object\n",
      "Gender                          object\n",
      "Age                              int64\n",
      "Nationality                     object\n",
      "Airport Name                    object\n",
      "Airport Country Code            object\n",
      "Country Name                    object\n",
      "Airport Continent               object\n",
      "Continents                      object\n",
      "Departure Date          datetime64[ns]\n",
      "Arrival Airport                 object\n",
      "Pilot Name                      object\n",
      "Flight Status                   object\n",
      "dtype: object\n"
     ]
    }
   ],
   "source": [
    "#The changing the datatype of Departure Date from object to Datetime\n",
    "data['Departure Date'] = pd.to_datetime(data['Departure Date'])\n",
    "print(data.dtypes)"
   ]
  },
  {
   "cell_type": "code",
   "execution_count": 9,
   "id": "c1a72ef0",
   "metadata": {},
   "outputs": [],
   "source": [
    "# Droping the columns\n",
    "data.drop(columns=['Airport Country Code','Airport Continent'],inplace = True)"
   ]
  },
  {
   "cell_type": "code",
   "execution_count": 10,
   "id": "f0f7d911",
   "metadata": {},
   "outputs": [
    {
     "data": {
      "text/html": [
       "<div>\n",
       "<style scoped>\n",
       "    .dataframe tbody tr th:only-of-type {\n",
       "        vertical-align: middle;\n",
       "    }\n",
       "\n",
       "    .dataframe tbody tr th {\n",
       "        vertical-align: top;\n",
       "    }\n",
       "\n",
       "    .dataframe thead th {\n",
       "        text-align: right;\n",
       "    }\n",
       "</style>\n",
       "<table border=\"1\" class=\"dataframe\">\n",
       "  <thead>\n",
       "    <tr style=\"text-align: right;\">\n",
       "      <th></th>\n",
       "      <th>Passenger ID</th>\n",
       "      <th>First Name</th>\n",
       "      <th>Last Name</th>\n",
       "      <th>Gender</th>\n",
       "      <th>Age</th>\n",
       "      <th>Nationality</th>\n",
       "      <th>Airport Name</th>\n",
       "      <th>Country Name</th>\n",
       "      <th>Continents</th>\n",
       "      <th>Departure Date</th>\n",
       "      <th>Arrival Airport</th>\n",
       "      <th>Pilot Name</th>\n",
       "      <th>Flight Status</th>\n",
       "    </tr>\n",
       "  </thead>\n",
       "  <tbody>\n",
       "    <tr>\n",
       "      <th>0</th>\n",
       "      <td>ABVWIg</td>\n",
       "      <td>Edithe</td>\n",
       "      <td>Leggis</td>\n",
       "      <td>Female</td>\n",
       "      <td>62</td>\n",
       "      <td>Japan</td>\n",
       "      <td>Coldfoot Airport</td>\n",
       "      <td>United States</td>\n",
       "      <td>North America</td>\n",
       "      <td>2022-06-28</td>\n",
       "      <td>CXF</td>\n",
       "      <td>Edithe Leggis</td>\n",
       "      <td>On Time</td>\n",
       "    </tr>\n",
       "    <tr>\n",
       "      <th>1</th>\n",
       "      <td>jkXXAX</td>\n",
       "      <td>Elwood</td>\n",
       "      <td>Catt</td>\n",
       "      <td>Male</td>\n",
       "      <td>62</td>\n",
       "      <td>Nicaragua</td>\n",
       "      <td>Kugluktuk Airport</td>\n",
       "      <td>Canada</td>\n",
       "      <td>North America</td>\n",
       "      <td>2022-12-26</td>\n",
       "      <td>YCO</td>\n",
       "      <td>Elwood Catt</td>\n",
       "      <td>On Time</td>\n",
       "    </tr>\n",
       "    <tr>\n",
       "      <th>2</th>\n",
       "      <td>CdUz2g</td>\n",
       "      <td>Darby</td>\n",
       "      <td>Felgate</td>\n",
       "      <td>Male</td>\n",
       "      <td>67</td>\n",
       "      <td>Russia</td>\n",
       "      <td>Grenoble-Isère Airport</td>\n",
       "      <td>France</td>\n",
       "      <td>Europe</td>\n",
       "      <td>2022-01-18</td>\n",
       "      <td>GNB</td>\n",
       "      <td>Darby Felgate</td>\n",
       "      <td>On Time</td>\n",
       "    </tr>\n",
       "    <tr>\n",
       "      <th>3</th>\n",
       "      <td>BRS38V</td>\n",
       "      <td>Dominica</td>\n",
       "      <td>Pyle</td>\n",
       "      <td>Female</td>\n",
       "      <td>71</td>\n",
       "      <td>China</td>\n",
       "      <td>Ottawa / Gatineau Airport</td>\n",
       "      <td>Canada</td>\n",
       "      <td>North America</td>\n",
       "      <td>2022-09-16</td>\n",
       "      <td>YND</td>\n",
       "      <td>Dominica Pyle</td>\n",
       "      <td>Delayed</td>\n",
       "    </tr>\n",
       "    <tr>\n",
       "      <th>4</th>\n",
       "      <td>9kvTLo</td>\n",
       "      <td>Bay</td>\n",
       "      <td>Pencost</td>\n",
       "      <td>Male</td>\n",
       "      <td>21</td>\n",
       "      <td>China</td>\n",
       "      <td>Gillespie Field</td>\n",
       "      <td>United States</td>\n",
       "      <td>North America</td>\n",
       "      <td>2022-02-25</td>\n",
       "      <td>SEE</td>\n",
       "      <td>Bay Pencost</td>\n",
       "      <td>On Time</td>\n",
       "    </tr>\n",
       "    <tr>\n",
       "      <th>...</th>\n",
       "      <td>...</td>\n",
       "      <td>...</td>\n",
       "      <td>...</td>\n",
       "      <td>...</td>\n",
       "      <td>...</td>\n",
       "      <td>...</td>\n",
       "      <td>...</td>\n",
       "      <td>...</td>\n",
       "      <td>...</td>\n",
       "      <td>...</td>\n",
       "      <td>...</td>\n",
       "      <td>...</td>\n",
       "      <td>...</td>\n",
       "    </tr>\n",
       "    <tr>\n",
       "      <th>98614</th>\n",
       "      <td>hnGQ62</td>\n",
       "      <td>Gareth</td>\n",
       "      <td>Mugford</td>\n",
       "      <td>Male</td>\n",
       "      <td>85</td>\n",
       "      <td>China</td>\n",
       "      <td>Hasvik Airport</td>\n",
       "      <td>Norway</td>\n",
       "      <td>Europe</td>\n",
       "      <td>2022-12-11</td>\n",
       "      <td>HAA</td>\n",
       "      <td>Gareth Mugford</td>\n",
       "      <td>Cancelled</td>\n",
       "    </tr>\n",
       "    <tr>\n",
       "      <th>98615</th>\n",
       "      <td>2omEzh</td>\n",
       "      <td>Kasey</td>\n",
       "      <td>Benedict</td>\n",
       "      <td>Female</td>\n",
       "      <td>19</td>\n",
       "      <td>Russia</td>\n",
       "      <td>Ampampamena Airport</td>\n",
       "      <td>Madagascar</td>\n",
       "      <td>Africa</td>\n",
       "      <td>2022-10-30</td>\n",
       "      <td>IVA</td>\n",
       "      <td>Kasey Benedict</td>\n",
       "      <td>Cancelled</td>\n",
       "    </tr>\n",
       "    <tr>\n",
       "      <th>98616</th>\n",
       "      <td>VUPiVG</td>\n",
       "      <td>Darrin</td>\n",
       "      <td>Lucken</td>\n",
       "      <td>Male</td>\n",
       "      <td>65</td>\n",
       "      <td>Indonesia</td>\n",
       "      <td>Albacete-Los Llanos Airport</td>\n",
       "      <td>Spain</td>\n",
       "      <td>Europe</td>\n",
       "      <td>2022-09-10</td>\n",
       "      <td>ABC</td>\n",
       "      <td>Darrin Lucken</td>\n",
       "      <td>On Time</td>\n",
       "    </tr>\n",
       "    <tr>\n",
       "      <th>98617</th>\n",
       "      <td>E47NtS</td>\n",
       "      <td>Gayle</td>\n",
       "      <td>Lievesley</td>\n",
       "      <td>Female</td>\n",
       "      <td>34</td>\n",
       "      <td>China</td>\n",
       "      <td>Gagnoa Airport</td>\n",
       "      <td>Côte d'Ivoire</td>\n",
       "      <td>Africa</td>\n",
       "      <td>2022-10-26</td>\n",
       "      <td>GGN</td>\n",
       "      <td>Gayle Lievesley</td>\n",
       "      <td>Cancelled</td>\n",
       "    </tr>\n",
       "    <tr>\n",
       "      <th>98618</th>\n",
       "      <td>8JYEcz</td>\n",
       "      <td>Wilhelmine</td>\n",
       "      <td>Touret</td>\n",
       "      <td>Female</td>\n",
       "      <td>10</td>\n",
       "      <td>Poland</td>\n",
       "      <td>Yoshkar-Ola Airport</td>\n",
       "      <td>Russian Federation</td>\n",
       "      <td>Europe</td>\n",
       "      <td>2022-04-16</td>\n",
       "      <td>JOK</td>\n",
       "      <td>Wilhelmine Touret</td>\n",
       "      <td>Delayed</td>\n",
       "    </tr>\n",
       "  </tbody>\n",
       "</table>\n",
       "<p>98619 rows × 13 columns</p>\n",
       "</div>"
      ],
      "text/plain": [
       "      Passenger ID  First Name  Last Name  Gender  Age Nationality  \\\n",
       "0           ABVWIg      Edithe     Leggis  Female   62       Japan   \n",
       "1           jkXXAX      Elwood       Catt    Male   62   Nicaragua   \n",
       "2           CdUz2g       Darby    Felgate    Male   67      Russia   \n",
       "3           BRS38V    Dominica       Pyle  Female   71       China   \n",
       "4           9kvTLo         Bay    Pencost    Male   21       China   \n",
       "...            ...         ...        ...     ...  ...         ...   \n",
       "98614       hnGQ62      Gareth    Mugford    Male   85       China   \n",
       "98615       2omEzh       Kasey   Benedict  Female   19      Russia   \n",
       "98616       VUPiVG      Darrin     Lucken    Male   65   Indonesia   \n",
       "98617       E47NtS       Gayle  Lievesley  Female   34       China   \n",
       "98618       8JYEcz  Wilhelmine     Touret  Female   10      Poland   \n",
       "\n",
       "                      Airport Name        Country Name     Continents  \\\n",
       "0                 Coldfoot Airport       United States  North America   \n",
       "1                Kugluktuk Airport              Canada  North America   \n",
       "2           Grenoble-Isère Airport              France         Europe   \n",
       "3        Ottawa / Gatineau Airport              Canada  North America   \n",
       "4                  Gillespie Field       United States  North America   \n",
       "...                            ...                 ...            ...   \n",
       "98614               Hasvik Airport              Norway         Europe   \n",
       "98615          Ampampamena Airport          Madagascar         Africa   \n",
       "98616  Albacete-Los Llanos Airport               Spain         Europe   \n",
       "98617               Gagnoa Airport       Côte d'Ivoire         Africa   \n",
       "98618          Yoshkar-Ola Airport  Russian Federation         Europe   \n",
       "\n",
       "      Departure Date Arrival Airport         Pilot Name Flight Status  \n",
       "0         2022-06-28             CXF      Edithe Leggis       On Time  \n",
       "1         2022-12-26             YCO        Elwood Catt       On Time  \n",
       "2         2022-01-18             GNB      Darby Felgate       On Time  \n",
       "3         2022-09-16             YND      Dominica Pyle       Delayed  \n",
       "4         2022-02-25             SEE        Bay Pencost       On Time  \n",
       "...              ...             ...                ...           ...  \n",
       "98614     2022-12-11             HAA     Gareth Mugford     Cancelled  \n",
       "98615     2022-10-30             IVA     Kasey Benedict     Cancelled  \n",
       "98616     2022-09-10             ABC      Darrin Lucken       On Time  \n",
       "98617     2022-10-26             GGN    Gayle Lievesley     Cancelled  \n",
       "98618     2022-04-16             JOK  Wilhelmine Touret       Delayed  \n",
       "\n",
       "[98619 rows x 13 columns]"
      ]
     },
     "execution_count": 10,
     "metadata": {},
     "output_type": "execute_result"
    }
   ],
   "source": [
    "data"
   ]
  },
  {
   "cell_type": "markdown",
   "id": "c0bf7b3e",
   "metadata": {},
   "source": [
    "Columns have been dropped and datatype has been changed"
   ]
  },
  {
   "cell_type": "code",
   "execution_count": 12,
   "id": "47436543",
   "metadata": {},
   "outputs": [
    {
     "data": {
      "image/png": "[encoded data removed]",
      "text/plain": [
       "<Figure size 432x288 with 1 Axes>"
      ]
     },
     "metadata": {
      "needs_background": "light"
     },
     "output_type": "display_data"
    }
   ],
   "source": [
    "#How many Male and Female Travel\n",
    "x = data.Gender.value_counts()\n",
    "x.index\n",
    "\n",
    "sns.barplot(x=x.index,y=x)\n",
    "plt.title('Number of Male and Female')\n",
    "plt.show()"
   ]
  },
  {
   "cell_type": "code",
   "execution_count": 13,
   "id": "73c83122",
   "metadata": {},
   "outputs": [
    {
     "data": {
      "image/png": "[encoded data removed]",
      "text/plain": [
       "<Figure size 432x288 with 1 Axes>"
      ]
     },
     "metadata": {},
     "output_type": "display_data"
    }
   ],
   "source": [
    "plt.pie(x, labels=x.index, autopct='%1.1f%%', startangle=140)\n",
    "plt.title('Distribution of Passengers across genders')\n",
    "plt.axis('equal')\n",
    "plt.show()"
   ]
  },
  {
   "cell_type": "markdown",
   "id": "0bcf1b6e",
   "metadata": {},
   "source": [
    "According to the chart ,49598 Male have Travelled which is 50.3% and 49021 Female have Travelled which is 49.7%\n",
    "In conclusion ,Male are more than Female"
   ]
  },
  {
   "cell_type": "code",
   "execution_count": 14,
   "id": "eefc2f57",
   "metadata": {},
   "outputs": [
    {
     "data": {
      "image/png": "[encoded data removed]",
      "text/plain": [
       "<Figure size 432x288 with 1 Axes>"
      ]
     },
     "metadata": {
      "needs_background": "light"
     },
     "output_type": "display_data"
    }
   ],
   "source": [
    "#Top 10 countries whose citizens Travel the most\n",
    "y = data.Nationality.value_counts().head(10)\n",
    "sns.barplot(x=y,y=y.index,orient='horizontal')\n",
    "plt.xlabel('Values')\n",
    "plt.ylabel('Countries')\n",
    "plt.title('Top 10 countries whose citizens Travel the most')\n",
    "plt.show()"
   ]
  },
  {
   "cell_type": "code",
   "execution_count": 17,
   "id": "d40397e5",
   "metadata": {
    "scrolled": true
   },
   "outputs": [
    {
     "data": {
      "image/png": "[encoded data removed]",
      "text/plain": [
       "<Figure size 432x288 with 1 Axes>"
      ]
     },
     "metadata": {
      "needs_background": "light"
     },
     "output_type": "display_data"
    }
   ],
   "source": [
    "#Top 10 countries most visited\n",
    "z = data['Country Name'].value_counts().head(10)\n",
    "sns.barplot(x=z,y=z.index,orient='horizontal')\n",
    "plt.xlabel('Values')\n",
    "plt.ylabel('Countries')\n",
    "plt.title('Top 10 countries with most airport departure')\n",
    "plt.show()"
   ]
  },
  {
   "cell_type": "code",
   "execution_count": 18,
   "id": "fad16c05",
   "metadata": {},
   "outputs": [
    {
     "data": {
      "image/png": "[encoded data removed]",
      "text/plain": [
       "<Figure size 432x288 with 1 Axes>"
      ]
     },
     "metadata": {},
     "output_type": "display_data"
    }
   ],
   "source": [
    "# How many flights were on time ,delayed or cancelled\n",
    "a = data['Flight Status'].value_counts()\n",
    "\n",
    "plt.pie(a, labels=a.index, autopct='%1.1f%%', startangle=140)\n",
    "plt.title('Distribution of Flight status')\n",
    "plt.axis('equal')\n",
    "plt.show()"
   ]
  },
  {
   "cell_type": "code",
   "execution_count": 29,
   "id": "ec366a6e",
   "metadata": {},
   "outputs": [
    {
     "data": {
      "text/plain": [
       "(array([16373., 16557., 16306., 16611., 16457., 16315.]),\n",
       " array([ 1.        , 15.83333333, 30.66666667, 45.5       , 60.33333333,\n",
       "        75.16666667, 90.        ]),\n",
       " <BarContainer object of 6 artists>)"
      ]
     },
     "execution_count": 29,
     "metadata": {},
     "output_type": "execute_result"
    },
    {
     "data": {
      "image/png": "[encoded data removed]",
      "text/plain": [
       "<Figure size 432x288 with 1 Axes>"
      ]
     },
     "metadata": {
      "needs_background": "light"
     },
     "output_type": "display_data"
    }
   ],
   "source": [
    "# Age\n",
    "age = data['Age']\n",
    "plt.hist(age,bins=6)"
   ]
  },
  {
   "cell_type": "markdown",
   "id": "1adc832e",
   "metadata": {},
   "source": [
    "Conclusions:\n",
    "1)"
   ]
  },
  {
   "cell_type": "code",
   "execution_count": 28,
   "id": "3859dea7",
   "metadata": {},
   "outputs": [
    {
     "data": {
      "image/png": "[encoded data removed]",
      "text/plain": [
       "<Figure size 432x288 with 1 Axes>"
      ]
     },
     "metadata": {
      "needs_background": "light"
     },
     "output_type": "display_data"
    }
   ],
   "source": [
    "#10 countries Least visited\n",
    "d = data['Country Name'].sort_values().value_counts().tail(10)\n",
    "sns.barplot(x=d,y=d.index,orient='horizontal')\n",
    "plt.xlabel('Values')\n",
    "plt.ylabel('Countries')\n",
    "plt.title('Top 10 countries with least airport departure')\n",
    "plt.show()"
   ]
  },
  {
   "cell_type": "code",
   "execution_count": null,
   "id": "af908e4c",
   "metadata": {},
   "outputs": [],
   "source": []
  },
  {
   "cell_type": "code",
   "execution_count": null,
   "id": "0ad00f22",
   "metadata": {},
   "outputs": [],
   "source": []
  }
 ],
 "metadata": {
  "kernelspec": {
   "display_name": "Python 3 (ipykernel)",
   "language": "python",
   "name": "python3"
  },
  "language_info": {
   "codemirror_mode": {
    "name": "ipython",
    "version": 3
   },
   "file_extension": ".py",
   "mimetype": "text/x-python",
   "name": "python",
   "nbconvert_exporter": "python",
   "pygments_lexer": "ipython3",
   "version": "3.9.12"
  }
 },
 "nbformat": 4,
 "nbformat_minor": 5
}
