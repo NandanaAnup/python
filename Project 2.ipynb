{
 "cells": [
  {
   "cell_type": "markdown",
   "id": "7dc8d4fb",
   "metadata": {},
   "source": [
    "# EDA on Vehicle Insurance Customer Data"
   ]
  },
  {
   "cell_type": "code",
   "execution_count": 2,
   "id": "86115624",
   "metadata": {},
   "outputs": [],
   "source": [
    "# Importing Libraries\n",
    "import pandas as pd\n",
    "import numpy as np"
   ]
  },
  {
   "cell_type": "code",
   "execution_count": 3,
   "id": "70a10800",
   "metadata": {},
   "outputs": [],
   "source": [
    "# Loading the data files\n",
    "\n",
    "data_f1 = pd.read_csv(\"customer_details.csv\")\n",
    "\n",
    "data_f2 = pd.read_csv(\"customer_policy_details.csv\")"
   ]
  },
  {
   "cell_type": "markdown",
   "id": "ab29e0f3",
   "metadata": {},
   "source": [
    "1.Add the column names to both datasets:\n",
    "\n",
    "i.Column Name for customer details table:\n",
    "            \n",
    "           customer_id, \n",
    "\n",
    "           Gender,\n",
    "\n",
    "           age, \n",
    "\n",
    "           driving licence present,\n",
    "\n",
    "           region code, \n",
    "\n",
    "           previously insured, \n",
    "\n",
    "           vehicle age \n",
    "\n",
    "           and vehicle damage, in respective order.\n",
    " "
   ]
  },
  {
   "cell_type": "code",
   "execution_count": 4,
   "id": "799780ec",
   "metadata": {},
   "outputs": [
    {
     "data": {
      "text/html": [
       "<div>\n",
       "<style scoped>\n",
       "    .dataframe tbody tr th:only-of-type {\n",
       "        vertical-align: middle;\n",
       "    }\n",
       "\n",
       "    .dataframe tbody tr th {\n",
       "        vertical-align: top;\n",
       "    }\n",
       "\n",
       "    .dataframe thead th {\n",
       "        text-align: right;\n",
       "    }\n",
       "</style>\n",
       "<table border=\"1\" class=\"dataframe\">\n",
       "  <thead>\n",
       "    <tr style=\"text-align: right;\">\n",
       "      <th></th>\n",
       "      <th>Customer_Id</th>\n",
       "      <th>Gender</th>\n",
       "      <th>Age</th>\n",
       "      <th>Driving Licence Present</th>\n",
       "      <th>Region Code</th>\n",
       "      <th>Previously Insured</th>\n",
       "      <th>Vehicle Age</th>\n",
       "      <th>Vehicle Damage</th>\n",
       "    </tr>\n",
       "  </thead>\n",
       "  <tbody>\n",
       "    <tr>\n",
       "      <th>0</th>\n",
       "      <td>1.0</td>\n",
       "      <td>Male</td>\n",
       "      <td>44.0</td>\n",
       "      <td>1.0</td>\n",
       "      <td>28.0</td>\n",
       "      <td>0.0</td>\n",
       "      <td>&gt; 2 Years</td>\n",
       "      <td>Yes</td>\n",
       "    </tr>\n",
       "    <tr>\n",
       "      <th>1</th>\n",
       "      <td>2.0</td>\n",
       "      <td>Male</td>\n",
       "      <td>76.0</td>\n",
       "      <td>1.0</td>\n",
       "      <td>3.0</td>\n",
       "      <td>0.0</td>\n",
       "      <td>1-2 Year</td>\n",
       "      <td>No</td>\n",
       "    </tr>\n",
       "    <tr>\n",
       "      <th>2</th>\n",
       "      <td>3.0</td>\n",
       "      <td>Male</td>\n",
       "      <td>47.0</td>\n",
       "      <td>1.0</td>\n",
       "      <td>28.0</td>\n",
       "      <td>0.0</td>\n",
       "      <td>&gt; 2 Years</td>\n",
       "      <td>Yes</td>\n",
       "    </tr>\n",
       "    <tr>\n",
       "      <th>3</th>\n",
       "      <td>4.0</td>\n",
       "      <td>Male</td>\n",
       "      <td>21.0</td>\n",
       "      <td>1.0</td>\n",
       "      <td>11.0</td>\n",
       "      <td>1.0</td>\n",
       "      <td>&lt; 1 Year</td>\n",
       "      <td>No</td>\n",
       "    </tr>\n",
       "    <tr>\n",
       "      <th>4</th>\n",
       "      <td>5.0</td>\n",
       "      <td>Female</td>\n",
       "      <td>29.0</td>\n",
       "      <td>1.0</td>\n",
       "      <td>41.0</td>\n",
       "      <td>1.0</td>\n",
       "      <td>&lt; 1 Year</td>\n",
       "      <td>No</td>\n",
       "    </tr>\n",
       "  </tbody>\n",
       "</table>\n",
       "</div>"
      ],
      "text/plain": [
       "   Customer_Id  Gender   Age  Driving Licence Present  Region Code  \\\n",
       "0          1.0    Male  44.0                      1.0         28.0   \n",
       "1          2.0    Male  76.0                      1.0          3.0   \n",
       "2          3.0    Male  47.0                      1.0         28.0   \n",
       "3          4.0    Male  21.0                      1.0         11.0   \n",
       "4          5.0  Female  29.0                      1.0         41.0   \n",
       "\n",
       "   Previously Insured Vehicle Age Vehicle Damage  \n",
       "0                 0.0   > 2 Years            Yes  \n",
       "1                 0.0    1-2 Year             No  \n",
       "2                 0.0   > 2 Years            Yes  \n",
       "3                 1.0    < 1 Year             No  \n",
       "4                 1.0    < 1 Year             No  "
      ]
     },
     "execution_count": 4,
     "metadata": {},
     "output_type": "execute_result"
    }
   ],
   "source": [
    "# Adding column names\n",
    "\n",
    "column_names1 = ['Customer_Id','Gender','Age','Driving Licence Present','Region Code','Previously Insured','Vehicle Age','Vehicle Damage']\n",
    "\n",
    "data_f1.columns=column_names1\n",
    "\n",
    "data_f1.head()"
   ]
  },
  {
   "cell_type": "markdown",
   "id": "6c8f7f5d",
   "metadata": {},
   "source": [
    "ii.Column Name for customer_policy table:\n",
    "              \n",
    "           customer_id, \n",
    "\n",
    "           annual premium (in Rs), \n",
    "\n",
    "           sales channel code, \n",
    "\n",
    "           vintage and response.\n"
   ]
  },
  {
   "cell_type": "code",
   "execution_count": 5,
   "id": "562f6061",
   "metadata": {},
   "outputs": [
    {
     "data": {
      "text/html": [
       "<div>\n",
       "<style scoped>\n",
       "    .dataframe tbody tr th:only-of-type {\n",
       "        vertical-align: middle;\n",
       "    }\n",
       "\n",
       "    .dataframe tbody tr th {\n",
       "        vertical-align: top;\n",
       "    }\n",
       "\n",
       "    .dataframe thead th {\n",
       "        text-align: right;\n",
       "    }\n",
       "</style>\n",
       "<table border=\"1\" class=\"dataframe\">\n",
       "  <thead>\n",
       "    <tr style=\"text-align: right;\">\n",
       "      <th></th>\n",
       "      <th>Customer_Id</th>\n",
       "      <th>Annual Premium</th>\n",
       "      <th>Sales Channel Code</th>\n",
       "      <th>Vintage</th>\n",
       "      <th>Response</th>\n",
       "    </tr>\n",
       "  </thead>\n",
       "  <tbody>\n",
       "    <tr>\n",
       "      <th>0</th>\n",
       "      <td>1.0</td>\n",
       "      <td>40454.0</td>\n",
       "      <td>26.0</td>\n",
       "      <td>217.0</td>\n",
       "      <td>1.0</td>\n",
       "    </tr>\n",
       "    <tr>\n",
       "      <th>1</th>\n",
       "      <td>2.0</td>\n",
       "      <td>33536.0</td>\n",
       "      <td>26.0</td>\n",
       "      <td>183.0</td>\n",
       "      <td>0.0</td>\n",
       "    </tr>\n",
       "    <tr>\n",
       "      <th>2</th>\n",
       "      <td>3.0</td>\n",
       "      <td>38294.0</td>\n",
       "      <td>26.0</td>\n",
       "      <td>27.0</td>\n",
       "      <td>1.0</td>\n",
       "    </tr>\n",
       "    <tr>\n",
       "      <th>3</th>\n",
       "      <td>4.0</td>\n",
       "      <td>28619.0</td>\n",
       "      <td>152.0</td>\n",
       "      <td>203.0</td>\n",
       "      <td>0.0</td>\n",
       "    </tr>\n",
       "    <tr>\n",
       "      <th>4</th>\n",
       "      <td>5.0</td>\n",
       "      <td>27496.0</td>\n",
       "      <td>152.0</td>\n",
       "      <td>39.0</td>\n",
       "      <td>0.0</td>\n",
       "    </tr>\n",
       "  </tbody>\n",
       "</table>\n",
       "</div>"
      ],
      "text/plain": [
       "   Customer_Id  Annual Premium  Sales Channel Code  Vintage  Response\n",
       "0          1.0         40454.0                26.0    217.0       1.0\n",
       "1          2.0         33536.0                26.0    183.0       0.0\n",
       "2          3.0         38294.0                26.0     27.0       1.0\n",
       "3          4.0         28619.0               152.0    203.0       0.0\n",
       "4          5.0         27496.0               152.0     39.0       0.0"
      ]
     },
     "execution_count": 5,
     "metadata": {},
     "output_type": "execute_result"
    }
   ],
   "source": [
    "column_names2 = ['Customer_Id','Annual Premium','Sales Channel Code','Vintage','Response']\n",
    "\n",
    "data_f2.columns=column_names2\n",
    "\n",
    "data_f2.head()"
   ]
  },
  {
   "cell_type": "markdown",
   "id": "fbe003c1",
   "metadata": {},
   "source": [
    "2. Checking and Cleaning Data Quality: \n",
    "\n",
    "i.Null Values\n",
    "\n",
    "a.Generate a summary of count of all the null values column wise"
   ]
  },
  {
   "cell_type": "code",
   "execution_count": 6,
   "id": "c94308eb",
   "metadata": {},
   "outputs": [
    {
     "data": {
      "text/plain": [
       "Customer_Id                386\n",
       "Gender                     368\n",
       "Age                        368\n",
       "Driving Licence Present    393\n",
       "Region Code                392\n",
       "Previously Insured         381\n",
       "Vehicle Age                381\n",
       "Vehicle Damage             407\n",
       "dtype: int64"
      ]
     },
     "execution_count": 6,
     "metadata": {},
     "output_type": "execute_result"
    }
   ],
   "source": [
    "# Column wise count of null values of data_f1\n",
    "data_f1.isnull().sum()"
   ]
  },
  {
   "cell_type": "markdown",
   "id": "eecee2c3",
   "metadata": {},
   "source": [
    "  ### * Summary of the null values column wise\n",
    "\n",
    "    Customer_Id has 386 null values out of 380723\n",
    "\n",
    "    Gender has 368 null values out of 380741\n",
    "\n",
    "    Age has 368 null values out of 380741\n",
    "\n",
    "    Driving Licence Present has 393 null values out of 380716\n",
    "\n",
    "    Region Code has 392 null values out of 380717\n",
    "\n",
    "    Previously Insured has 381 null values out of 380728\n",
    "\n",
    "    Vehicle Age has 381 null values out of 380728\n",
    "\n",
    "    Vehicle Damage has 407 null values out of 380702"
   ]
  },
  {
   "cell_type": "code",
   "execution_count": 7,
   "id": "e06189ad",
   "metadata": {},
   "outputs": [
    {
     "data": {
      "text/plain": [
       "Customer_Id           387\n",
       "Annual Premium        346\n",
       "Sales Channel Code    400\n",
       "Vintage               388\n",
       "Response              361\n",
       "dtype: int64"
      ]
     },
     "execution_count": 7,
     "metadata": {},
     "output_type": "execute_result"
    }
   ],
   "source": [
    "# column wise count of null values of data_f2\n",
    "data_f2.isnull().sum()"
   ]
  },
  {
   "cell_type": "markdown",
   "id": "038ba7f1",
   "metadata": {},
   "source": [
    "### Summary of count of null values column wise\n",
    "     Customer_Id has 387 null values out of 380722\n",
    "     \n",
    "     Annual Premium has 346 null values out 380763\n",
    "     \n",
    "     Sales Channel Code has 400 null values out 380709\n",
    "     \n",
    "     Vintage has 388 null values out 380721\n",
    "     \n",
    "     Response has 361 null values out of 380748"
   ]
  },
  {
   "cell_type": "markdown",
   "id": "f7a1694c",
   "metadata": {},
   "source": [
    "b.Drop Null values for customer_id because central         tendencies for id’s is not feasible."
   ]
  },
  {
   "cell_type": "code",
   "execution_count": 8,
   "id": "ae6fc26e",
   "metadata": {},
   "outputs": [],
   "source": [
    "# Dropping null values from customer_id on customer details table\n",
    "data_f1.dropna(subset=['Customer_Id'],axis=0,inplace=True)\n",
    "\n",
    "#resetting the index\n",
    "data_f1.reset_index(drop=True,inplace=True)"
   ]
  },
  {
   "cell_type": "code",
   "execution_count": 9,
   "id": "3b66c5c1",
   "metadata": {},
   "outputs": [],
   "source": [
    "# Dropping null values from Customer_Id on customer policy detalails\n",
    "data_f2.dropna(subset=['Customer_Id'],axis=0,inplace=True)\n",
    "\n",
    "#resetting the index\n",
    "data_f2.reset_index(drop=True,inplace=True)"
   ]
  },
  {
   "cell_type": "markdown",
   "id": "88ac6ba9",
   "metadata": {},
   "source": [
    "c.Replace all null values for numeric columns by mean. "
   ]
  },
  {
   "cell_type": "code",
   "execution_count": 10,
   "id": "cf8782d4",
   "metadata": {},
   "outputs": [
    {
     "data": {
      "text/html": [
       "<div>\n",
       "<style scoped>\n",
       "    .dataframe tbody tr th:only-of-type {\n",
       "        vertical-align: middle;\n",
       "    }\n",
       "\n",
       "    .dataframe tbody tr th {\n",
       "        vertical-align: top;\n",
       "    }\n",
       "\n",
       "    .dataframe thead th {\n",
       "        text-align: right;\n",
       "    }\n",
       "</style>\n",
       "<table border=\"1\" class=\"dataframe\">\n",
       "  <thead>\n",
       "    <tr style=\"text-align: right;\">\n",
       "      <th></th>\n",
       "      <th>Customer_Id</th>\n",
       "      <th>Gender</th>\n",
       "      <th>Age</th>\n",
       "      <th>Driving Licence Present</th>\n",
       "      <th>Region Code</th>\n",
       "      <th>Previously Insured</th>\n",
       "      <th>Vehicle Age</th>\n",
       "      <th>Vehicle Damage</th>\n",
       "    </tr>\n",
       "  </thead>\n",
       "  <tbody>\n",
       "    <tr>\n",
       "      <th>0</th>\n",
       "      <td>1.0</td>\n",
       "      <td>Male</td>\n",
       "      <td>44.0</td>\n",
       "      <td>1.0</td>\n",
       "      <td>28.0</td>\n",
       "      <td>0.0</td>\n",
       "      <td>&gt; 2 Years</td>\n",
       "      <td>Yes</td>\n",
       "    </tr>\n",
       "    <tr>\n",
       "      <th>1</th>\n",
       "      <td>2.0</td>\n",
       "      <td>Male</td>\n",
       "      <td>76.0</td>\n",
       "      <td>1.0</td>\n",
       "      <td>3.0</td>\n",
       "      <td>0.0</td>\n",
       "      <td>1-2 Year</td>\n",
       "      <td>No</td>\n",
       "    </tr>\n",
       "    <tr>\n",
       "      <th>2</th>\n",
       "      <td>3.0</td>\n",
       "      <td>Male</td>\n",
       "      <td>47.0</td>\n",
       "      <td>1.0</td>\n",
       "      <td>28.0</td>\n",
       "      <td>0.0</td>\n",
       "      <td>&gt; 2 Years</td>\n",
       "      <td>Yes</td>\n",
       "    </tr>\n",
       "    <tr>\n",
       "      <th>3</th>\n",
       "      <td>4.0</td>\n",
       "      <td>Male</td>\n",
       "      <td>21.0</td>\n",
       "      <td>1.0</td>\n",
       "      <td>11.0</td>\n",
       "      <td>1.0</td>\n",
       "      <td>&lt; 1 Year</td>\n",
       "      <td>No</td>\n",
       "    </tr>\n",
       "    <tr>\n",
       "      <th>4</th>\n",
       "      <td>5.0</td>\n",
       "      <td>Female</td>\n",
       "      <td>29.0</td>\n",
       "      <td>1.0</td>\n",
       "      <td>41.0</td>\n",
       "      <td>1.0</td>\n",
       "      <td>&lt; 1 Year</td>\n",
       "      <td>No</td>\n",
       "    </tr>\n",
       "  </tbody>\n",
       "</table>\n",
       "</div>"
      ],
      "text/plain": [
       "   Customer_Id  Gender   Age  Driving Licence Present  Region Code  \\\n",
       "0          1.0    Male  44.0                      1.0         28.0   \n",
       "1          2.0    Male  76.0                      1.0          3.0   \n",
       "2          3.0    Male  47.0                      1.0         28.0   \n",
       "3          4.0    Male  21.0                      1.0         11.0   \n",
       "4          5.0  Female  29.0                      1.0         41.0   \n",
       "\n",
       "   Previously Insured Vehicle Age Vehicle Damage  \n",
       "0                 0.0   > 2 Years            Yes  \n",
       "1                 0.0    1-2 Year             No  \n",
       "2                 0.0   > 2 Years            Yes  \n",
       "3                 1.0    < 1 Year             No  \n",
       "4                 1.0    < 1 Year             No  "
      ]
     },
     "execution_count": 10,
     "metadata": {},
     "output_type": "execute_result"
    }
   ],
   "source": [
    "data_f1.head()"
   ]
  },
  {
   "cell_type": "markdown",
   "id": "851f2791",
   "metadata": {},
   "source": [
    "In this table Age and Region Code are the numeric columns.\n",
    "Driving Licence Present and Previously Insured are categorical data."
   ]
  },
  {
   "cell_type": "code",
   "execution_count": 11,
   "id": "4dfab851",
   "metadata": {},
   "outputs": [],
   "source": [
    "# Replacing the null values of Age by mean value\n",
    "\n",
    "data_f1['Age'].fillna(data_f1['Age'].mean(),inplace=True)\n",
    "\n",
    "# Replacing the null values of Region code by mean value\n",
    "\n",
    "data_f1['Region Code'].fillna(data_f1['Region Code'].mean(),inplace=True)\n",
    "\n"
   ]
  },
  {
   "cell_type": "code",
   "execution_count": 12,
   "id": "9152a9b7",
   "metadata": {},
   "outputs": [
    {
     "data": {
      "text/html": [
       "<div>\n",
       "<style scoped>\n",
       "    .dataframe tbody tr th:only-of-type {\n",
       "        vertical-align: middle;\n",
       "    }\n",
       "\n",
       "    .dataframe tbody tr th {\n",
       "        vertical-align: top;\n",
       "    }\n",
       "\n",
       "    .dataframe thead th {\n",
       "        text-align: right;\n",
       "    }\n",
       "</style>\n",
       "<table border=\"1\" class=\"dataframe\">\n",
       "  <thead>\n",
       "    <tr style=\"text-align: right;\">\n",
       "      <th></th>\n",
       "      <th>Customer_Id</th>\n",
       "      <th>Annual Premium</th>\n",
       "      <th>Sales Channel Code</th>\n",
       "      <th>Vintage</th>\n",
       "      <th>Response</th>\n",
       "    </tr>\n",
       "  </thead>\n",
       "  <tbody>\n",
       "    <tr>\n",
       "      <th>0</th>\n",
       "      <td>1.0</td>\n",
       "      <td>40454.0</td>\n",
       "      <td>26.0</td>\n",
       "      <td>217.0</td>\n",
       "      <td>1.0</td>\n",
       "    </tr>\n",
       "    <tr>\n",
       "      <th>1</th>\n",
       "      <td>2.0</td>\n",
       "      <td>33536.0</td>\n",
       "      <td>26.0</td>\n",
       "      <td>183.0</td>\n",
       "      <td>0.0</td>\n",
       "    </tr>\n",
       "    <tr>\n",
       "      <th>2</th>\n",
       "      <td>3.0</td>\n",
       "      <td>38294.0</td>\n",
       "      <td>26.0</td>\n",
       "      <td>27.0</td>\n",
       "      <td>1.0</td>\n",
       "    </tr>\n",
       "    <tr>\n",
       "      <th>3</th>\n",
       "      <td>4.0</td>\n",
       "      <td>28619.0</td>\n",
       "      <td>152.0</td>\n",
       "      <td>203.0</td>\n",
       "      <td>0.0</td>\n",
       "    </tr>\n",
       "    <tr>\n",
       "      <th>4</th>\n",
       "      <td>5.0</td>\n",
       "      <td>27496.0</td>\n",
       "      <td>152.0</td>\n",
       "      <td>39.0</td>\n",
       "      <td>0.0</td>\n",
       "    </tr>\n",
       "  </tbody>\n",
       "</table>\n",
       "</div>"
      ],
      "text/plain": [
       "   Customer_Id  Annual Premium  Sales Channel Code  Vintage  Response\n",
       "0          1.0         40454.0                26.0    217.0       1.0\n",
       "1          2.0         33536.0                26.0    183.0       0.0\n",
       "2          3.0         38294.0                26.0     27.0       1.0\n",
       "3          4.0         28619.0               152.0    203.0       0.0\n",
       "4          5.0         27496.0               152.0     39.0       0.0"
      ]
     },
     "execution_count": 12,
     "metadata": {},
     "output_type": "execute_result"
    }
   ],
   "source": [
    "data_f2.head()"
   ]
  },
  {
   "cell_type": "markdown",
   "id": "58fed485",
   "metadata": {},
   "source": [
    "In this Table Annual Premium,Sales Channel Code and Vintage are numerical data.\n",
    "Response has categorical data."
   ]
  },
  {
   "cell_type": "code",
   "execution_count": 13,
   "id": "52f39965",
   "metadata": {},
   "outputs": [],
   "source": [
    "# Replacing the null values of Annual Premium by its mean\n",
    "\n",
    "data_f2['Annual Premium'].fillna(data_f2['Annual Premium'].mean(),inplace=True)\n",
    "\n",
    "#Replacing the null values of Sales Channel Codeby its mean\n",
    "\n",
    "data_f2['Sales Channel Code'].fillna(data_f2['Sales Channel Code'].mean(),inplace=True)\n",
    "\n",
    "# Replacing the null values of Vintage by its mean\n",
    "\n",
    "data_f2['Vintage'].fillna(data_f2['Vintage'].mean(),inplace=True)"
   ]
  },
  {
   "cell_type": "markdown",
   "id": "815aff56",
   "metadata": {},
   "source": [
    "d.Replace all null values for Categorical value by mode"
   ]
  },
  {
   "cell_type": "code",
   "execution_count": 14,
   "id": "20104dfd",
   "metadata": {
    "scrolled": true
   },
   "outputs": [],
   "source": [
    "# Replacing all null values of Driving Licence Present by mode\n",
    "\n",
    "data_f1['Driving Licence Present'].fillna(data_f1['Driving Licence Present'].mode()[0],inplace=True)\n",
    "\n",
    "# Replacing all null values of Previously Insured by mode\n",
    "\n",
    "data_f1['Previously Insured'].fillna(data_f1['Previously Insured'].mode()[0],inplace=True)"
   ]
  },
  {
   "cell_type": "code",
   "execution_count": 15,
   "id": "1c924eee",
   "metadata": {},
   "outputs": [],
   "source": [
    "# Replacing all null values of Response by mode\n",
    "\n",
    "data_f2['Response'].fillna(data_f2['Response'].mode()[0],inplace=True)"
   ]
  },
  {
   "cell_type": "markdown",
   "id": "51d71b01",
   "metadata": {},
   "source": [
    "ii.Outliers\n",
    "\n",
    "a.Generate a summary of count of all the outliers column wise"
   ]
  },
  {
   "cell_type": "markdown",
   "id": "c06f3a48",
   "metadata": {},
   "source": [
    "In data_f1 table we need to calculate the outliers of Age and Region Code as the others are non-numeric columns."
   ]
  },
  {
   "cell_type": "code",
   "execution_count": 16,
   "id": "fc74ce4a",
   "metadata": {},
   "outputs": [
    {
     "data": {
      "text/plain": [
       "<AxesSubplot:>"
      ]
     },
     "execution_count": 16,
     "metadata": {},
     "output_type": "execute_result"
    },
    {
     "data": {
      "image/png": "[encoded data removed]",
      "text/plain": [
       "<Figure size 432x288 with 1 Axes>"
      ]
     },
     "metadata": {
      "needs_background": "light"
     },
     "output_type": "display_data"
    }
   ],
   "source": [
    "data_f1.boxplot(column=['Age'],grid=False)"
   ]
  },
  {
   "cell_type": "code",
   "execution_count": 17,
   "id": "a3f3fd77",
   "metadata": {},
   "outputs": [
    {
     "data": {
      "text/plain": [
       "<AxesSubplot:>"
      ]
     },
     "execution_count": 17,
     "metadata": {},
     "output_type": "execute_result"
    },
    {
     "data": {
      "image/png": "[encoded data removed]",
      "text/plain": [
       "<Figure size 432x288 with 1 Axes>"
      ]
     },
     "metadata": {
      "needs_background": "light"
     },
     "output_type": "display_data"
    }
   ],
   "source": [
    "data_f1.boxplot(column=['Region Code'],grid=False)"
   ]
  },
  {
   "cell_type": "markdown",
   "id": "b3af882b",
   "metadata": {},
   "source": [
    "From the above figures we can understand that the are no outliers for the customer details table."
   ]
  },
  {
   "cell_type": "code",
   "execution_count": 18,
   "id": "4b4d42e3",
   "metadata": {},
   "outputs": [],
   "source": [
    "# Finding outliers if present by IQR method\n",
    "# for data_f1\n",
    "def f_outliers(df):\n",
    "    q1 = df.quantile(0.25)\n",
    "    q3 = df.quantile(0.75)\n",
    "    iqr = q3-q1\n",
    "    outlier = df[((df<(q1-1.5*iqr)) | (df>(q3+1.5*iqr)))]\n",
    "    return outlier"
   ]
  },
  {
   "cell_type": "code",
   "execution_count": 19,
   "id": "39da6a2b",
   "metadata": {},
   "outputs": [
    {
     "name": "stdout",
     "output_type": "stream",
     "text": [
      "Number of outliers : 0\n",
      "Maximum outlier value : nan\n",
      "Minimum outlier value : nan\n"
     ]
    }
   ],
   "source": [
    "outlier1 = f_outliers(data_f1['Age'])\n",
    "print('Number of outliers :',len(outlier1))\n",
    "print('Maximum outlier value :',outlier1.max())\n",
    "print('Minimum outlier value :',outlier1.min())"
   ]
  },
  {
   "cell_type": "code",
   "execution_count": 20,
   "id": "9fb62e71",
   "metadata": {},
   "outputs": [
    {
     "name": "stdout",
     "output_type": "stream",
     "text": [
      "Number of outliers : 0\n",
      "Maximum outlier value : nan\n",
      "Minimum outlier value : nan\n"
     ]
    }
   ],
   "source": [
    "outlier2 = f_outliers(data_f1['Region Code'])\n",
    "print('Number of outliers :',len(outlier2))\n",
    "print('Maximum outlier value :',outlier2.max())\n",
    "print('Minimum outlier value :',outlier2.min())"
   ]
  },
  {
   "cell_type": "markdown",
   "id": "27f9f305",
   "metadata": {},
   "source": [
    "from the above result we can conclude that customer details table doesnt have outliers"
   ]
  },
  {
   "cell_type": "code",
   "execution_count": 21,
   "id": "081eb564",
   "metadata": {},
   "outputs": [
    {
     "data": {
      "text/plain": [
       "<AxesSubplot:>"
      ]
     },
     "execution_count": 21,
     "metadata": {},
     "output_type": "execute_result"
    },
    {
     "data": {
      "image/png": "[encoded data removed]",
      "text/plain": [
       "<Figure size 432x288 with 1 Axes>"
      ]
     },
     "metadata": {
      "needs_background": "light"
     },
     "output_type": "display_data"
    }
   ],
   "source": [
    "data_f2.boxplot(column='Annual Premium',grid=False)"
   ]
  },
  {
   "cell_type": "code",
   "execution_count": 22,
   "id": "13d757d0",
   "metadata": {},
   "outputs": [
    {
     "data": {
      "text/plain": [
       "<AxesSubplot:>"
      ]
     },
     "execution_count": 22,
     "metadata": {},
     "output_type": "execute_result"
    },
    {
     "data": {
      "image/png": "[encoded data removed]",
      "text/plain": [
       "<Figure size 432x288 with 1 Axes>"
      ]
     },
     "metadata": {
      "needs_background": "light"
     },
     "output_type": "display_data"
    }
   ],
   "source": [
    "data_f2.boxplot(column='Sales Channel Code',grid=False)"
   ]
  },
  {
   "cell_type": "code",
   "execution_count": 23,
   "id": "19ec2ee9",
   "metadata": {},
   "outputs": [
    {
     "data": {
      "text/plain": [
       "<AxesSubplot:>"
      ]
     },
     "execution_count": 23,
     "metadata": {},
     "output_type": "execute_result"
    },
    {
     "data": {
      "image/png": "[encoded data removed]",
      "text/plain": [
       "<Figure size 432x288 with 1 Axes>"
      ]
     },
     "metadata": {
      "needs_background": "light"
     },
     "output_type": "display_data"
    }
   ],
   "source": [
    "data_f2.boxplot(column='Vintage',grid=False)"
   ]
  },
  {
   "cell_type": "markdown",
   "id": "01cab6eb",
   "metadata": {},
   "source": [
    "from the graph we conclude that only Annual Premium column has outliers"
   ]
  },
  {
   "cell_type": "code",
   "execution_count": 24,
   "id": "c6820ee1",
   "metadata": {},
   "outputs": [
    {
     "name": "stdout",
     "output_type": "stream",
     "text": [
      "Number of outliers : 10332\n",
      "Maximum outlier value : 540165.0\n",
      "Minimum outlier value : 61858.0\n"
     ]
    }
   ],
   "source": [
    "outlier3 = f_outliers(data_f2[\"Annual Premium\"])\n",
    "\n",
    "print('Number of outliers :',len(outlier3))\n",
    "print('Maximum outlier value :',outlier3.max())\n",
    "print('Minimum outlier value :',outlier3.min())"
   ]
  },
  {
   "cell_type": "code",
   "execution_count": 25,
   "id": "1af8e270",
   "metadata": {},
   "outputs": [
    {
     "name": "stdout",
     "output_type": "stream",
     "text": [
      "Number of outliers : 0\n",
      "Maximum outlier value : nan\n",
      "Minimum outlier value : nan\n"
     ]
    }
   ],
   "source": [
    "outlier4 = f_outliers(data_f2[\"Sales Channel Code\"])\n",
    "\n",
    "print('Number of outliers :',len(outlier4))\n",
    "print('Maximum outlier value :',outlier4.max())\n",
    "print('Minimum outlier value :',outlier4.min())"
   ]
  },
  {
   "cell_type": "code",
   "execution_count": 26,
   "id": "6e134b48",
   "metadata": {},
   "outputs": [
    {
     "name": "stdout",
     "output_type": "stream",
     "text": [
      "Number of outliers : 0\n",
      "Maximum outlier value : nan\n",
      "Minimum outlier value : nan\n"
     ]
    }
   ],
   "source": [
    "outlier5 = f_outliers(data_f2[\"Vintage\"])\n",
    "\n",
    "print('Number of outliers :',len(outlier5))\n",
    "print('Maximum outlier value :',outlier5.max())\n",
    "print('Minimum outlier value :',outlier5.min())"
   ]
  },
  {
   "cell_type": "markdown",
   "id": "602860b2",
   "metadata": {},
   "source": [
    "b.Replace all outlier values for numeric columns by mean."
   ]
  },
  {
   "cell_type": "code",
   "execution_count": 27,
   "id": "f5765fa8",
   "metadata": {},
   "outputs": [],
   "source": [
    "def replace_outlier(df):\n",
    "    q1 = df.quantile(0.25)\n",
    "    q3 = df.quantile(0.75)\n",
    "    iqr = q3-q1\n",
    "    upper = df[(df>(q3+1.5*iqr))].max()\n",
    "    lower = df[(df<(q1-1.5*iqr))].min()\n",
    "    df = np.where(df>upper,df.mean(),np.where(df<lower,df.mean(),df))\n",
    "    return df\n",
    "\n",
    "data_f2['Annual Premium'] = replace_outlier(data_f2['Annual Premium'])"
   ]
  },
  {
   "cell_type": "markdown",
   "id": "fa432be2",
   "metadata": {},
   "source": [
    "iii. White spaces"
   ]
  },
  {
   "cell_type": "code",
   "execution_count": 33,
   "id": "01b778ba",
   "metadata": {},
   "outputs": [
    {
     "data": {
      "text/html": [
       "<div>\n",
       "<style scoped>\n",
       "    .dataframe tbody tr th:only-of-type {\n",
       "        vertical-align: middle;\n",
       "    }\n",
       "\n",
       "    .dataframe tbody tr th {\n",
       "        vertical-align: top;\n",
       "    }\n",
       "\n",
       "    .dataframe thead th {\n",
       "        text-align: right;\n",
       "    }\n",
       "</style>\n",
       "<table border=\"1\" class=\"dataframe\">\n",
       "  <thead>\n",
       "    <tr style=\"text-align: right;\">\n",
       "      <th></th>\n",
       "      <th>Customer_Id</th>\n",
       "      <th>Gender</th>\n",
       "      <th>Age</th>\n",
       "      <th>Driving Licence Present</th>\n",
       "      <th>Region Code</th>\n",
       "      <th>Previously Insured</th>\n",
       "      <th>Vehicle Age</th>\n",
       "      <th>Vehicle Damage</th>\n",
       "    </tr>\n",
       "  </thead>\n",
       "  <tbody>\n",
       "    <tr>\n",
       "      <th>0</th>\n",
       "      <td>1.0</td>\n",
       "      <td>Male</td>\n",
       "      <td>44.0</td>\n",
       "      <td>1.0</td>\n",
       "      <td>28.0</td>\n",
       "      <td>0.0</td>\n",
       "      <td>&gt; 2 Years</td>\n",
       "      <td>Yes</td>\n",
       "    </tr>\n",
       "    <tr>\n",
       "      <th>1</th>\n",
       "      <td>2.0</td>\n",
       "      <td>Male</td>\n",
       "      <td>76.0</td>\n",
       "      <td>1.0</td>\n",
       "      <td>3.0</td>\n",
       "      <td>0.0</td>\n",
       "      <td>1-2 Year</td>\n",
       "      <td>No</td>\n",
       "    </tr>\n",
       "    <tr>\n",
       "      <th>2</th>\n",
       "      <td>3.0</td>\n",
       "      <td>Male</td>\n",
       "      <td>47.0</td>\n",
       "      <td>1.0</td>\n",
       "      <td>28.0</td>\n",
       "      <td>0.0</td>\n",
       "      <td>&gt; 2 Years</td>\n",
       "      <td>Yes</td>\n",
       "    </tr>\n",
       "    <tr>\n",
       "      <th>3</th>\n",
       "      <td>4.0</td>\n",
       "      <td>Male</td>\n",
       "      <td>21.0</td>\n",
       "      <td>1.0</td>\n",
       "      <td>11.0</td>\n",
       "      <td>1.0</td>\n",
       "      <td>&lt; 1 Year</td>\n",
       "      <td>No</td>\n",
       "    </tr>\n",
       "    <tr>\n",
       "      <th>4</th>\n",
       "      <td>5.0</td>\n",
       "      <td>Female</td>\n",
       "      <td>29.0</td>\n",
       "      <td>1.0</td>\n",
       "      <td>41.0</td>\n",
       "      <td>1.0</td>\n",
       "      <td>&lt; 1 Year</td>\n",
       "      <td>No</td>\n",
       "    </tr>\n",
       "    <tr>\n",
       "      <th>...</th>\n",
       "      <td>...</td>\n",
       "      <td>...</td>\n",
       "      <td>...</td>\n",
       "      <td>...</td>\n",
       "      <td>...</td>\n",
       "      <td>...</td>\n",
       "      <td>...</td>\n",
       "      <td>...</td>\n",
       "    </tr>\n",
       "    <tr>\n",
       "      <th>380718</th>\n",
       "      <td>381105.0</td>\n",
       "      <td>Male</td>\n",
       "      <td>74.0</td>\n",
       "      <td>1.0</td>\n",
       "      <td>26.0</td>\n",
       "      <td>1.0</td>\n",
       "      <td>1-2 Year</td>\n",
       "      <td>No</td>\n",
       "    </tr>\n",
       "    <tr>\n",
       "      <th>380719</th>\n",
       "      <td>381106.0</td>\n",
       "      <td>Male</td>\n",
       "      <td>30.0</td>\n",
       "      <td>1.0</td>\n",
       "      <td>37.0</td>\n",
       "      <td>1.0</td>\n",
       "      <td>&lt; 1 Year</td>\n",
       "      <td>No</td>\n",
       "    </tr>\n",
       "    <tr>\n",
       "      <th>380720</th>\n",
       "      <td>381107.0</td>\n",
       "      <td>Male</td>\n",
       "      <td>21.0</td>\n",
       "      <td>1.0</td>\n",
       "      <td>30.0</td>\n",
       "      <td>1.0</td>\n",
       "      <td>&lt; 1 Year</td>\n",
       "      <td>No</td>\n",
       "    </tr>\n",
       "    <tr>\n",
       "      <th>380721</th>\n",
       "      <td>381108.0</td>\n",
       "      <td>Female</td>\n",
       "      <td>68.0</td>\n",
       "      <td>1.0</td>\n",
       "      <td>14.0</td>\n",
       "      <td>0.0</td>\n",
       "      <td>&gt; 2 Years</td>\n",
       "      <td>Yes</td>\n",
       "    </tr>\n",
       "    <tr>\n",
       "      <th>380722</th>\n",
       "      <td>381109.0</td>\n",
       "      <td>Male</td>\n",
       "      <td>46.0</td>\n",
       "      <td>1.0</td>\n",
       "      <td>29.0</td>\n",
       "      <td>0.0</td>\n",
       "      <td>1-2 Year</td>\n",
       "      <td>No</td>\n",
       "    </tr>\n",
       "  </tbody>\n",
       "</table>\n",
       "<p>380723 rows × 8 columns</p>\n",
       "</div>"
      ],
      "text/plain": [
       "        Customer_Id  Gender   Age  Driving Licence Present  Region Code  \\\n",
       "0               1.0    Male  44.0                      1.0         28.0   \n",
       "1               2.0    Male  76.0                      1.0          3.0   \n",
       "2               3.0    Male  47.0                      1.0         28.0   \n",
       "3               4.0    Male  21.0                      1.0         11.0   \n",
       "4               5.0  Female  29.0                      1.0         41.0   \n",
       "...             ...     ...   ...                      ...          ...   \n",
       "380718     381105.0    Male  74.0                      1.0         26.0   \n",
       "380719     381106.0    Male  30.0                      1.0         37.0   \n",
       "380720     381107.0    Male  21.0                      1.0         30.0   \n",
       "380721     381108.0  Female  68.0                      1.0         14.0   \n",
       "380722     381109.0    Male  46.0                      1.0         29.0   \n",
       "\n",
       "        Previously Insured Vehicle Age Vehicle Damage  \n",
       "0                      0.0   > 2 Years            Yes  \n",
       "1                      0.0    1-2 Year             No  \n",
       "2                      0.0   > 2 Years            Yes  \n",
       "3                      1.0    < 1 Year             No  \n",
       "4                      1.0    < 1 Year             No  \n",
       "...                    ...         ...            ...  \n",
       "380718                 1.0    1-2 Year             No  \n",
       "380719                 1.0    < 1 Year             No  \n",
       "380720                 1.0    < 1 Year             No  \n",
       "380721                 0.0   > 2 Years            Yes  \n",
       "380722                 0.0    1-2 Year             No  \n",
       "\n",
       "[380723 rows x 8 columns]"
      ]
     },
     "execution_count": 33,
     "metadata": {},
     "output_type": "execute_result"
    }
   ],
   "source": [
    "# Remove white spaces\n",
    "\n",
    "data_f1.apply(lambda x:x.str.strip() if x.dtype=='object' else x)"
   ]
  },
  {
   "cell_type": "markdown",
   "id": "b2a3e606",
   "metadata": {},
   "source": [
    "The customer policy details table contains of all float data type so removing white space is not required"
   ]
  },
  {
   "cell_type": "markdown",
   "id": "f4e7ef45",
   "metadata": {},
   "source": [
    "iv. case correction(lower or upper, any one)"
   ]
  },
  {
   "cell_type": "code",
   "execution_count": null,
   "id": "4e254a20",
   "metadata": {},
   "outputs": [],
   "source": [
    "# convert the characters into upper case\n",
    "\n",
    "data_f1.apply(lambda x:x.str.upper() if x.dtype=='object' else x)"
   ]
  },
  {
   "cell_type": "markdown",
   "id": "be6d80eb",
   "metadata": {},
   "source": [
    "v. Convert nominal data (categorical) into dummies"
   ]
  },
  {
   "cell_type": "code",
   "execution_count": 34,
   "id": "aa45d972",
   "metadata": {
    "scrolled": false
   },
   "outputs": [
    {
     "data": {
      "text/html": [
       "<div>\n",
       "<style scoped>\n",
       "    .dataframe tbody tr th:only-of-type {\n",
       "        vertical-align: middle;\n",
       "    }\n",
       "\n",
       "    .dataframe tbody tr th {\n",
       "        vertical-align: top;\n",
       "    }\n",
       "\n",
       "    .dataframe thead th {\n",
       "        text-align: right;\n",
       "    }\n",
       "</style>\n",
       "<table border=\"1\" class=\"dataframe\">\n",
       "  <thead>\n",
       "    <tr style=\"text-align: right;\">\n",
       "      <th></th>\n",
       "      <th>Female</th>\n",
       "      <th>Male</th>\n",
       "    </tr>\n",
       "  </thead>\n",
       "  <tbody>\n",
       "    <tr>\n",
       "      <th>0</th>\n",
       "      <td>0</td>\n",
       "      <td>1</td>\n",
       "    </tr>\n",
       "    <tr>\n",
       "      <th>1</th>\n",
       "      <td>0</td>\n",
       "      <td>1</td>\n",
       "    </tr>\n",
       "    <tr>\n",
       "      <th>2</th>\n",
       "      <td>0</td>\n",
       "      <td>1</td>\n",
       "    </tr>\n",
       "    <tr>\n",
       "      <th>3</th>\n",
       "      <td>0</td>\n",
       "      <td>1</td>\n",
       "    </tr>\n",
       "    <tr>\n",
       "      <th>4</th>\n",
       "      <td>1</td>\n",
       "      <td>0</td>\n",
       "    </tr>\n",
       "  </tbody>\n",
       "</table>\n",
       "</div>"
      ],
      "text/plain": [
       "   Female  Male\n",
       "0       0     1\n",
       "1       0     1\n",
       "2       0     1\n",
       "3       0     1\n",
       "4       1     0"
      ]
     },
     "execution_count": 34,
     "metadata": {},
     "output_type": "execute_result"
    }
   ],
   "source": [
    "# for future modeling use if required\n",
    "dummy_gender = pd.get_dummies(data_f1[\"Gender\"])\n",
    "dummy_gender.head()\n"
   ]
  },
  {
   "cell_type": "code",
   "execution_count": 35,
   "id": "7a7cd613",
   "metadata": {},
   "outputs": [
    {
     "data": {
      "text/html": [
       "<div>\n",
       "<style scoped>\n",
       "    .dataframe tbody tr th:only-of-type {\n",
       "        vertical-align: middle;\n",
       "    }\n",
       "\n",
       "    .dataframe tbody tr th {\n",
       "        vertical-align: top;\n",
       "    }\n",
       "\n",
       "    .dataframe thead th {\n",
       "        text-align: right;\n",
       "    }\n",
       "</style>\n",
       "<table border=\"1\" class=\"dataframe\">\n",
       "  <thead>\n",
       "    <tr style=\"text-align: right;\">\n",
       "      <th></th>\n",
       "      <th>No</th>\n",
       "      <th>Yes</th>\n",
       "    </tr>\n",
       "  </thead>\n",
       "  <tbody>\n",
       "    <tr>\n",
       "      <th>0</th>\n",
       "      <td>0</td>\n",
       "      <td>1</td>\n",
       "    </tr>\n",
       "    <tr>\n",
       "      <th>1</th>\n",
       "      <td>1</td>\n",
       "      <td>0</td>\n",
       "    </tr>\n",
       "    <tr>\n",
       "      <th>2</th>\n",
       "      <td>0</td>\n",
       "      <td>1</td>\n",
       "    </tr>\n",
       "    <tr>\n",
       "      <th>3</th>\n",
       "      <td>1</td>\n",
       "      <td>0</td>\n",
       "    </tr>\n",
       "    <tr>\n",
       "      <th>4</th>\n",
       "      <td>1</td>\n",
       "      <td>0</td>\n",
       "    </tr>\n",
       "  </tbody>\n",
       "</table>\n",
       "</div>"
      ],
      "text/plain": [
       "   No  Yes\n",
       "0   0    1\n",
       "1   1    0\n",
       "2   0    1\n",
       "3   1    0\n",
       "4   1    0"
      ]
     },
     "execution_count": 35,
     "metadata": {},
     "output_type": "execute_result"
    }
   ],
   "source": [
    "dummy_vehicle_damage = pd.get_dummies(data_f1[\"Vehicle Damage\"])\n",
    "dummy_vehicle_damage.head()"
   ]
  },
  {
   "cell_type": "code",
   "execution_count": 36,
   "id": "5ba64576",
   "metadata": {},
   "outputs": [
    {
     "data": {
      "text/html": [
       "<div>\n",
       "<style scoped>\n",
       "    .dataframe tbody tr th:only-of-type {\n",
       "        vertical-align: middle;\n",
       "    }\n",
       "\n",
       "    .dataframe tbody tr th {\n",
       "        vertical-align: top;\n",
       "    }\n",
       "\n",
       "    .dataframe thead th {\n",
       "        text-align: right;\n",
       "    }\n",
       "</style>\n",
       "<table border=\"1\" class=\"dataframe\">\n",
       "  <thead>\n",
       "    <tr style=\"text-align: right;\">\n",
       "      <th></th>\n",
       "      <th>0.0</th>\n",
       "      <th>1.0</th>\n",
       "    </tr>\n",
       "  </thead>\n",
       "  <tbody>\n",
       "    <tr>\n",
       "      <th>0</th>\n",
       "      <td>1</td>\n",
       "      <td>0</td>\n",
       "    </tr>\n",
       "    <tr>\n",
       "      <th>1</th>\n",
       "      <td>1</td>\n",
       "      <td>0</td>\n",
       "    </tr>\n",
       "    <tr>\n",
       "      <th>2</th>\n",
       "      <td>1</td>\n",
       "      <td>0</td>\n",
       "    </tr>\n",
       "    <tr>\n",
       "      <th>3</th>\n",
       "      <td>0</td>\n",
       "      <td>1</td>\n",
       "    </tr>\n",
       "    <tr>\n",
       "      <th>4</th>\n",
       "      <td>0</td>\n",
       "      <td>1</td>\n",
       "    </tr>\n",
       "  </tbody>\n",
       "</table>\n",
       "</div>"
      ],
      "text/plain": [
       "   0.0  1.0\n",
       "0    1    0\n",
       "1    1    0\n",
       "2    1    0\n",
       "3    0    1\n",
       "4    0    1"
      ]
     },
     "execution_count": 36,
     "metadata": {},
     "output_type": "execute_result"
    }
   ],
   "source": [
    "dummy_previously_insured = pd.get_dummies(data_f1[\"Previously Insured\"])\n",
    "dummy_previously_insured.head()"
   ]
  },
  {
   "cell_type": "markdown",
   "id": "cc1188db",
   "metadata": {},
   "source": [
    "vi.Drop Duplicates (duplicated rows) "
   ]
  },
  {
   "cell_type": "code",
   "execution_count": 37,
   "id": "2f7085b4",
   "metadata": {},
   "outputs": [],
   "source": [
    "# Dropping duplicates from customer details data\n",
    "\n",
    "data_f1.drop_duplicates(inplace=True)"
   ]
  },
  {
   "cell_type": "code",
   "execution_count": 39,
   "id": "ee2358a9",
   "metadata": {},
   "outputs": [],
   "source": [
    "# Dropping duplicates from customer details data\n",
    "\n",
    "data_f2.drop_duplicates(inplace=True)"
   ]
  },
  {
   "cell_type": "markdown",
   "id": "d7526ed5",
   "metadata": {},
   "source": [
    "3.Create a Master table for future use. Join the customer table and customer_policy table to get a master table using customer_id in both tables."
   ]
  },
  {
   "cell_type": "code",
   "execution_count": 40,
   "id": "87e93487",
   "metadata": {},
   "outputs": [
    {
     "data": {
      "text/html": [
       "<div>\n",
       "<style scoped>\n",
       "    .dataframe tbody tr th:only-of-type {\n",
       "        vertical-align: middle;\n",
       "    }\n",
       "\n",
       "    .dataframe tbody tr th {\n",
       "        vertical-align: top;\n",
       "    }\n",
       "\n",
       "    .dataframe thead th {\n",
       "        text-align: right;\n",
       "    }\n",
       "</style>\n",
       "<table border=\"1\" class=\"dataframe\">\n",
       "  <thead>\n",
       "    <tr style=\"text-align: right;\">\n",
       "      <th></th>\n",
       "      <th>Customer_Id</th>\n",
       "      <th>Gender</th>\n",
       "      <th>Age</th>\n",
       "      <th>Driving Licence Present</th>\n",
       "      <th>Region Code</th>\n",
       "      <th>Previously Insured</th>\n",
       "      <th>Vehicle Age</th>\n",
       "      <th>Vehicle Damage</th>\n",
       "      <th>Annual Premium</th>\n",
       "      <th>Sales Channel Code</th>\n",
       "      <th>Vintage</th>\n",
       "      <th>Response</th>\n",
       "    </tr>\n",
       "  </thead>\n",
       "  <tbody>\n",
       "    <tr>\n",
       "      <th>0</th>\n",
       "      <td>1.0</td>\n",
       "      <td>Male</td>\n",
       "      <td>44.0</td>\n",
       "      <td>1.0</td>\n",
       "      <td>28.0</td>\n",
       "      <td>0.0</td>\n",
       "      <td>&gt; 2 Years</td>\n",
       "      <td>Yes</td>\n",
       "      <td>40454.0</td>\n",
       "      <td>26.0</td>\n",
       "      <td>217.0</td>\n",
       "      <td>1.0</td>\n",
       "    </tr>\n",
       "    <tr>\n",
       "      <th>1</th>\n",
       "      <td>2.0</td>\n",
       "      <td>Male</td>\n",
       "      <td>76.0</td>\n",
       "      <td>1.0</td>\n",
       "      <td>3.0</td>\n",
       "      <td>0.0</td>\n",
       "      <td>1-2 Year</td>\n",
       "      <td>No</td>\n",
       "      <td>33536.0</td>\n",
       "      <td>26.0</td>\n",
       "      <td>183.0</td>\n",
       "      <td>0.0</td>\n",
       "    </tr>\n",
       "    <tr>\n",
       "      <th>2</th>\n",
       "      <td>3.0</td>\n",
       "      <td>Male</td>\n",
       "      <td>47.0</td>\n",
       "      <td>1.0</td>\n",
       "      <td>28.0</td>\n",
       "      <td>0.0</td>\n",
       "      <td>&gt; 2 Years</td>\n",
       "      <td>Yes</td>\n",
       "      <td>38294.0</td>\n",
       "      <td>26.0</td>\n",
       "      <td>27.0</td>\n",
       "      <td>1.0</td>\n",
       "    </tr>\n",
       "    <tr>\n",
       "      <th>3</th>\n",
       "      <td>4.0</td>\n",
       "      <td>Male</td>\n",
       "      <td>21.0</td>\n",
       "      <td>1.0</td>\n",
       "      <td>11.0</td>\n",
       "      <td>1.0</td>\n",
       "      <td>&lt; 1 Year</td>\n",
       "      <td>No</td>\n",
       "      <td>28619.0</td>\n",
       "      <td>152.0</td>\n",
       "      <td>203.0</td>\n",
       "      <td>0.0</td>\n",
       "    </tr>\n",
       "    <tr>\n",
       "      <th>4</th>\n",
       "      <td>5.0</td>\n",
       "      <td>Female</td>\n",
       "      <td>29.0</td>\n",
       "      <td>1.0</td>\n",
       "      <td>41.0</td>\n",
       "      <td>1.0</td>\n",
       "      <td>&lt; 1 Year</td>\n",
       "      <td>No</td>\n",
       "      <td>27496.0</td>\n",
       "      <td>152.0</td>\n",
       "      <td>39.0</td>\n",
       "      <td>0.0</td>\n",
       "    </tr>\n",
       "    <tr>\n",
       "      <th>...</th>\n",
       "      <td>...</td>\n",
       "      <td>...</td>\n",
       "      <td>...</td>\n",
       "      <td>...</td>\n",
       "      <td>...</td>\n",
       "      <td>...</td>\n",
       "      <td>...</td>\n",
       "      <td>...</td>\n",
       "      <td>...</td>\n",
       "      <td>...</td>\n",
       "      <td>...</td>\n",
       "      <td>...</td>\n",
       "    </tr>\n",
       "    <tr>\n",
       "      <th>380331</th>\n",
       "      <td>381105.0</td>\n",
       "      <td>Male</td>\n",
       "      <td>74.0</td>\n",
       "      <td>1.0</td>\n",
       "      <td>26.0</td>\n",
       "      <td>1.0</td>\n",
       "      <td>1-2 Year</td>\n",
       "      <td>No</td>\n",
       "      <td>30170.0</td>\n",
       "      <td>26.0</td>\n",
       "      <td>88.0</td>\n",
       "      <td>0.0</td>\n",
       "    </tr>\n",
       "    <tr>\n",
       "      <th>380332</th>\n",
       "      <td>381106.0</td>\n",
       "      <td>Male</td>\n",
       "      <td>30.0</td>\n",
       "      <td>1.0</td>\n",
       "      <td>37.0</td>\n",
       "      <td>1.0</td>\n",
       "      <td>&lt; 1 Year</td>\n",
       "      <td>No</td>\n",
       "      <td>40016.0</td>\n",
       "      <td>152.0</td>\n",
       "      <td>131.0</td>\n",
       "      <td>0.0</td>\n",
       "    </tr>\n",
       "    <tr>\n",
       "      <th>380333</th>\n",
       "      <td>381107.0</td>\n",
       "      <td>Male</td>\n",
       "      <td>21.0</td>\n",
       "      <td>1.0</td>\n",
       "      <td>30.0</td>\n",
       "      <td>1.0</td>\n",
       "      <td>&lt; 1 Year</td>\n",
       "      <td>No</td>\n",
       "      <td>35118.0</td>\n",
       "      <td>160.0</td>\n",
       "      <td>161.0</td>\n",
       "      <td>0.0</td>\n",
       "    </tr>\n",
       "    <tr>\n",
       "      <th>380334</th>\n",
       "      <td>381108.0</td>\n",
       "      <td>Female</td>\n",
       "      <td>68.0</td>\n",
       "      <td>1.0</td>\n",
       "      <td>14.0</td>\n",
       "      <td>0.0</td>\n",
       "      <td>&gt; 2 Years</td>\n",
       "      <td>Yes</td>\n",
       "      <td>44617.0</td>\n",
       "      <td>124.0</td>\n",
       "      <td>74.0</td>\n",
       "      <td>0.0</td>\n",
       "    </tr>\n",
       "    <tr>\n",
       "      <th>380335</th>\n",
       "      <td>381109.0</td>\n",
       "      <td>Male</td>\n",
       "      <td>46.0</td>\n",
       "      <td>1.0</td>\n",
       "      <td>29.0</td>\n",
       "      <td>0.0</td>\n",
       "      <td>1-2 Year</td>\n",
       "      <td>No</td>\n",
       "      <td>41777.0</td>\n",
       "      <td>26.0</td>\n",
       "      <td>237.0</td>\n",
       "      <td>0.0</td>\n",
       "    </tr>\n",
       "  </tbody>\n",
       "</table>\n",
       "<p>380336 rows × 12 columns</p>\n",
       "</div>"
      ],
      "text/plain": [
       "        Customer_Id  Gender   Age  Driving Licence Present  Region Code  \\\n",
       "0               1.0    Male  44.0                      1.0         28.0   \n",
       "1               2.0    Male  76.0                      1.0          3.0   \n",
       "2               3.0    Male  47.0                      1.0         28.0   \n",
       "3               4.0    Male  21.0                      1.0         11.0   \n",
       "4               5.0  Female  29.0                      1.0         41.0   \n",
       "...             ...     ...   ...                      ...          ...   \n",
       "380331     381105.0    Male  74.0                      1.0         26.0   \n",
       "380332     381106.0    Male  30.0                      1.0         37.0   \n",
       "380333     381107.0    Male  21.0                      1.0         30.0   \n",
       "380334     381108.0  Female  68.0                      1.0         14.0   \n",
       "380335     381109.0    Male  46.0                      1.0         29.0   \n",
       "\n",
       "        Previously Insured Vehicle Age Vehicle Damage  Annual Premium  \\\n",
       "0                      0.0   > 2 Years            Yes         40454.0   \n",
       "1                      0.0    1-2 Year             No         33536.0   \n",
       "2                      0.0   > 2 Years            Yes         38294.0   \n",
       "3                      1.0    < 1 Year             No         28619.0   \n",
       "4                      1.0    < 1 Year             No         27496.0   \n",
       "...                    ...         ...            ...             ...   \n",
       "380331                 1.0    1-2 Year             No         30170.0   \n",
       "380332                 1.0    < 1 Year             No         40016.0   \n",
       "380333                 1.0    < 1 Year             No         35118.0   \n",
       "380334                 0.0   > 2 Years            Yes         44617.0   \n",
       "380335                 0.0    1-2 Year             No         41777.0   \n",
       "\n",
       "        Sales Channel Code  Vintage  Response  \n",
       "0                     26.0    217.0       1.0  \n",
       "1                     26.0    183.0       0.0  \n",
       "2                     26.0     27.0       1.0  \n",
       "3                    152.0    203.0       0.0  \n",
       "4                    152.0     39.0       0.0  \n",
       "...                    ...      ...       ...  \n",
       "380331                26.0     88.0       0.0  \n",
       "380332               152.0    131.0       0.0  \n",
       "380333               160.0    161.0       0.0  \n",
       "380334               124.0     74.0       0.0  \n",
       "380335                26.0    237.0       0.0  \n",
       "\n",
       "[380336 rows x 12 columns]"
      ]
     },
     "execution_count": 40,
     "metadata": {},
     "output_type": "execute_result"
    }
   ],
   "source": [
    "master_table = pd.merge(data_f1,data_f2,on='Customer_Id')\n",
    "master_table"
   ]
  },
  {
   "cell_type": "markdown",
   "id": "bc915d27",
   "metadata": {},
   "source": [
    "4.Company needs some important information from the master table to make decisions for future growth.They needs following information:\n",
    "\n",
    "i.Gender wise average annual premium"
   ]
  },
  {
   "cell_type": "code",
   "execution_count": 41,
   "id": "784a2b7a",
   "metadata": {},
   "outputs": [
    {
     "data": {
      "text/plain": [
       "Gender\n",
       "Female    30492.028478\n",
       "Male      30624.622150\n",
       "Name: Annual Premium, dtype: float64"
      ]
     },
     "execution_count": 41,
     "metadata": {},
     "output_type": "execute_result"
    }
   ],
   "source": [
    "gender_wise = master_table.groupby('Gender')['Annual Premium'].mean()\n",
    "gender_wise"
   ]
  },
  {
   "cell_type": "code",
   "execution_count": 42,
   "id": "aa5991a7",
   "metadata": {},
   "outputs": [
    {
     "data": {
      "text/plain": [
       "<AxesSubplot:title={'center':'.Gender wise average annual premium'}, xlabel='Gender'>"
      ]
     },
     "execution_count": 42,
     "metadata": {},
     "output_type": "execute_result"
    },
    {
     "data": {
      "image/png": "[encoded data removed]",
      "text/plain": [
       "<Figure size 432x288 with 1 Axes>"
      ]
     },
     "metadata": {
      "needs_background": "light"
     },
     "output_type": "display_data"
    }
   ],
   "source": [
    "gender_wise.plot.bar(title='.Gender wise average annual premium')"
   ]
  },
  {
   "cell_type": "markdown",
   "id": "a3810de6",
   "metadata": {},
   "source": [
    "ii. Age wise average annual premium"
   ]
  },
  {
   "cell_type": "code",
   "execution_count": 43,
   "id": "b04f2284",
   "metadata": {},
   "outputs": [
    {
     "data": {
      "text/plain": [
       "Age\n",
       "20.0    26924.620173\n",
       "21.0    30564.475810\n",
       "22.0    30823.778102\n",
       "23.0    30688.606298\n",
       "24.0    31183.802890\n",
       "            ...     \n",
       "81.0    31201.571429\n",
       "82.0    37705.379310\n",
       "83.0    31012.727273\n",
       "84.0    35440.818182\n",
       "85.0    29792.363636\n",
       "Name: Annual Premium, Length: 67, dtype: float64"
      ]
     },
     "execution_count": 43,
     "metadata": {},
     "output_type": "execute_result"
    }
   ],
   "source": [
    "age_wise = master_table.groupby('Age')['Annual Premium'].mean()\n",
    "age_wise"
   ]
  },
  {
   "cell_type": "code",
   "execution_count": 44,
   "id": "5a7ef734",
   "metadata": {},
   "outputs": [
    {
     "data": {
      "text/plain": [
       "<AxesSubplot:title={'center':'Age wise Average annual premium'}, xlabel='Age', ylabel='Annual Premium'>"
      ]
     },
     "execution_count": 44,
     "metadata": {},
     "output_type": "execute_result"
    },
    {
     "data": {
      "image/png": "[encoded data removed]",
      "text/plain": [
       "<Figure size 432x288 with 1 Axes>"
      ]
     },
     "metadata": {
      "needs_background": "light"
     },
     "output_type": "display_data"
    }
   ],
   "source": [
    "age_wise.plot(xlabel='Age',ylabel='Annual Premium',title='Age wise Average annual premium')"
   ]
  },
  {
   "cell_type": "markdown",
   "id": "e183e0d5",
   "metadata": {},
   "source": [
    "iii. Is your data balanced between the genders?"
   ]
  },
  {
   "cell_type": "code",
   "execution_count": 45,
   "id": "5cd78061",
   "metadata": {},
   "outputs": [
    {
     "data": {
      "text/html": [
       "<div>\n",
       "<style scoped>\n",
       "    .dataframe tbody tr th:only-of-type {\n",
       "        vertical-align: middle;\n",
       "    }\n",
       "\n",
       "    .dataframe tbody tr th {\n",
       "        vertical-align: top;\n",
       "    }\n",
       "\n",
       "    .dataframe thead th {\n",
       "        text-align: right;\n",
       "    }\n",
       "</style>\n",
       "<table border=\"1\" class=\"dataframe\">\n",
       "  <thead>\n",
       "    <tr style=\"text-align: right;\">\n",
       "      <th></th>\n",
       "      <th>Customer_Id</th>\n",
       "      <th>Age</th>\n",
       "      <th>Driving Licence Present</th>\n",
       "      <th>Region Code</th>\n",
       "      <th>Previously Insured</th>\n",
       "      <th>Vehicle Age</th>\n",
       "      <th>Vehicle Damage</th>\n",
       "      <th>Annual Premium</th>\n",
       "      <th>Sales Channel Code</th>\n",
       "      <th>Vintage</th>\n",
       "      <th>Response</th>\n",
       "    </tr>\n",
       "    <tr>\n",
       "      <th>Gender</th>\n",
       "      <th></th>\n",
       "      <th></th>\n",
       "      <th></th>\n",
       "      <th></th>\n",
       "      <th></th>\n",
       "      <th></th>\n",
       "      <th></th>\n",
       "      <th></th>\n",
       "      <th></th>\n",
       "      <th></th>\n",
       "      <th></th>\n",
       "    </tr>\n",
       "  </thead>\n",
       "  <tbody>\n",
       "    <tr>\n",
       "      <th>Female</th>\n",
       "      <td>174485</td>\n",
       "      <td>174485</td>\n",
       "      <td>174485</td>\n",
       "      <td>174485</td>\n",
       "      <td>174485</td>\n",
       "      <td>174309</td>\n",
       "      <td>174300</td>\n",
       "      <td>174485</td>\n",
       "      <td>174485</td>\n",
       "      <td>174485</td>\n",
       "      <td>174485</td>\n",
       "    </tr>\n",
       "    <tr>\n",
       "      <th>Male</th>\n",
       "      <td>205484</td>\n",
       "      <td>205484</td>\n",
       "      <td>205484</td>\n",
       "      <td>205484</td>\n",
       "      <td>205484</td>\n",
       "      <td>205279</td>\n",
       "      <td>205266</td>\n",
       "      <td>205484</td>\n",
       "      <td>205484</td>\n",
       "      <td>205484</td>\n",
       "      <td>205484</td>\n",
       "    </tr>\n",
       "  </tbody>\n",
       "</table>\n",
       "</div>"
      ],
      "text/plain": [
       "        Customer_Id     Age  Driving Licence Present  Region Code  \\\n",
       "Gender                                                              \n",
       "Female       174485  174485                   174485       174485   \n",
       "Male         205484  205484                   205484       205484   \n",
       "\n",
       "        Previously Insured  Vehicle Age  Vehicle Damage  Annual Premium  \\\n",
       "Gender                                                                    \n",
       "Female              174485       174309          174300          174485   \n",
       "Male                205484       205279          205266          205484   \n",
       "\n",
       "        Sales Channel Code  Vintage  Response  \n",
       "Gender                                         \n",
       "Female              174485   174485    174485  \n",
       "Male                205484   205484    205484  "
      ]
     },
     "execution_count": 45,
     "metadata": {},
     "output_type": "execute_result"
    }
   ],
   "source": [
    "master_table.groupby('Gender').count()"
   ]
  },
  {
   "cell_type": "markdown",
   "id": "1b72ca63",
   "metadata": {},
   "source": [
    "The ratio between male and female is 1.177\n",
    "\n",
    "The data between the genders are approximately same which means the data is balanced"
   ]
  },
  {
   "cell_type": "markdown",
   "id": "caa0cf78",
   "metadata": {},
   "source": [
    "iv. Vehicle age wise average annual premium."
   ]
  },
  {
   "cell_type": "code",
   "execution_count": 46,
   "id": "f980fc9d",
   "metadata": {},
   "outputs": [
    {
     "data": {
      "text/plain": [
       "Vehicle Age\n",
       "1-2 Year     30522.464972\n",
       "< 1 Year     30115.716367\n",
       "> 2 Years    35657.520845\n",
       "Name: Annual Premium, dtype: float64"
      ]
     },
     "execution_count": 46,
     "metadata": {},
     "output_type": "execute_result"
    }
   ],
   "source": [
    "vehicle_age_wise = master_table.groupby('Vehicle Age')['Annual Premium'].mean()\n",
    "vehicle_age_wise"
   ]
  },
  {
   "cell_type": "code",
   "execution_count": 47,
   "id": "cdb33455",
   "metadata": {},
   "outputs": [
    {
     "data": {
      "text/plain": [
       "<AxesSubplot:title={'center':'Vehicle age wise Annual premium '}, xlabel='Vehicle Age'>"
      ]
     },
     "execution_count": 47,
     "metadata": {},
     "output_type": "execute_result"
    },
    {
     "data": {
      "image/png": "[encoded data removed]",
      "text/plain": [
       "<Figure size 432x288 with 1 Axes>"
      ]
     },
     "metadata": {
      "needs_background": "light"
     },
     "output_type": "display_data"
    }
   ],
   "source": [
    "vehicle_age_wise.plot.bar(title='Vehicle age wise Annual premium ')"
   ]
  },
  {
   "cell_type": "markdown",
   "id": "00cf0029",
   "metadata": {},
   "source": [
    "5. Is there any relation between Person Age and annual premium?"
   ]
  },
  {
   "cell_type": "code",
   "execution_count": 48,
   "id": "c1af19a8",
   "metadata": {},
   "outputs": [
    {
     "data": {
      "text/plain": [
       "0.0677151598661391"
      ]
     },
     "execution_count": 48,
     "metadata": {},
     "output_type": "execute_result"
    }
   ],
   "source": [
    "master_table['Age'].corr(master_table['Annual Premium'])"
   ]
  },
  {
   "cell_type": "code",
   "execution_count": 49,
   "id": "f9ad62d5",
   "metadata": {},
   "outputs": [
    {
     "data": {
      "text/html": [
       "<div>\n",
       "<style scoped>\n",
       "    .dataframe tbody tr th:only-of-type {\n",
       "        vertical-align: middle;\n",
       "    }\n",
       "\n",
       "    .dataframe tbody tr th {\n",
       "        vertical-align: top;\n",
       "    }\n",
       "\n",
       "    .dataframe thead th {\n",
       "        text-align: right;\n",
       "    }\n",
       "</style>\n",
       "<table border=\"1\" class=\"dataframe\">\n",
       "  <thead>\n",
       "    <tr style=\"text-align: right;\">\n",
       "      <th></th>\n",
       "      <th>Age</th>\n",
       "      <th>Annual Premium</th>\n",
       "    </tr>\n",
       "  </thead>\n",
       "  <tbody>\n",
       "    <tr>\n",
       "      <th>Age</th>\n",
       "      <td>1.000000</td>\n",
       "      <td>0.067715</td>\n",
       "    </tr>\n",
       "    <tr>\n",
       "      <th>Annual Premium</th>\n",
       "      <td>0.067715</td>\n",
       "      <td>1.000000</td>\n",
       "    </tr>\n",
       "  </tbody>\n",
       "</table>\n",
       "</div>"
      ],
      "text/plain": [
       "                     Age  Annual Premium\n",
       "Age             1.000000        0.067715\n",
       "Annual Premium  0.067715        1.000000"
      ]
     },
     "execution_count": 49,
     "metadata": {},
     "output_type": "execute_result"
    }
   ],
   "source": [
    "master_table[['Age','Annual Premium']].corr()"
   ]
  },
  {
   "cell_type": "markdown",
   "id": "29945d5d",
   "metadata": {},
   "source": [
    "Since the Pearson Correlation lies between 0.5 and -0.5 we can say that there is no relation between Age and Annual Premium "
   ]
  },
  {
   "cell_type": "code",
   "execution_count": null,
   "id": "f69ef572",
   "metadata": {},
   "outputs": [],
   "source": []
  },
  {
   "cell_type": "code",
   "execution_count": null,
   "id": "b71de591",
   "metadata": {},
   "outputs": [],
   "source": []
  },
  {
   "cell_type": "code",
   "execution_count": null,
   "id": "dd1e901e",
   "metadata": {},
   "outputs": [],
   "source": []
  }
 ],
 "metadata": {
  "kernelspec": {
   "display_name": "Python 3 (ipykernel)",
   "language": "python",
   "name": "python3"
  },
  "language_info": {
   "codemirror_mode": {
    "name": "ipython",
    "version": 3
   },
   "file_extension": ".py",
   "mimetype": "text/x-python",
   "name": "python",
   "nbconvert_exporter": "python",
   "pygments_lexer": "ipython3",
   "version": "3.9.12"
  }
 },
 "nbformat": 4,
 "nbformat_minor": 5
}
